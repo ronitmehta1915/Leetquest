{
 "cells": [
  {
   "cell_type": "markdown",
   "metadata": {},
   "source": [
    "# Fun With <span style=\"color: green;\">Python</span><br>\n",
    "### <span style=\"color: red;\">Basics - Part 1</span>"
   ]
  },
  {
   "cell_type": "markdown",
   "id": "6e9f97e4",
   "metadata": {},
   "source": [
    "# Table of Contents\n",
    "# Fun With <span style=\"color: green;\">Python</span><br>\n",
    "### <span style=\"color: red;\">Basics - Part 1</span>\n",
    "### Table of contents\n"
   ]
  },
  {
   "cell_type": "markdown",
   "metadata": {},
   "source": [
    "### Table of contents\n",
    "\n",
    "0. Description\n",
    "1. Question"
   ]
  },
  {
   "cell_type": "code",
   "execution_count": 5,
   "metadata": {},
   "outputs": [
    {
     "ename": "ImportError",
     "evalue": "cannot import name 'MarkdownPreprocessor' from 'nbconvert.preprocessors' (c:\\Users\\ronit\\OneDrive\\Desktop\\College\\Python\\New folder\\Lib\\site-packages\\nbconvert\\preprocessors\\__init__.py)",
     "output_type": "error",
     "traceback": [
      "\u001b[1;31m---------------------------------------------------------------------------\u001b[0m",
      "\u001b[1;31mImportError\u001b[0m                               Traceback (most recent call last)",
      "Cell \u001b[1;32mIn[5], line 2\u001b[0m\n\u001b[0;32m      1\u001b[0m \u001b[38;5;28;01mimport\u001b[39;00m \u001b[38;5;21;01mnbformat\u001b[39;00m\n\u001b[1;32m----> 2\u001b[0m \u001b[38;5;28;01mfrom\u001b[39;00m \u001b[38;5;21;01mnbconvert\u001b[39;00m\u001b[38;5;21;01m.\u001b[39;00m\u001b[38;5;21;01mpreprocessors\u001b[39;00m \u001b[38;5;28;01mimport\u001b[39;00m MarkdownPreprocessor\n\u001b[0;32m      4\u001b[0m \u001b[38;5;66;03m# Load the notebook\u001b[39;00m\n\u001b[0;32m      5\u001b[0m \u001b[38;5;28;01mwith\u001b[39;00m \u001b[38;5;28mopen\u001b[39m(\u001b[38;5;124m'\u001b[39m\u001b[38;5;124mlearning_python_basic1.ipynb\u001b[39m\u001b[38;5;124m'\u001b[39m, \u001b[38;5;124m'\u001b[39m\u001b[38;5;124mr\u001b[39m\u001b[38;5;124m'\u001b[39m) \u001b[38;5;28;01mas\u001b[39;00m f:\n",
      "\u001b[1;31mImportError\u001b[0m: cannot import name 'MarkdownPreprocessor' from 'nbconvert.preprocessors' (c:\\Users\\ronit\\OneDrive\\Desktop\\College\\Python\\New folder\\Lib\\site-packages\\nbconvert\\preprocessors\\__init__.py)"
     ]
    }
   ],
   "source": [
    "import nbformat\n",
    "from nbconvert import NotebookExporter\n",
    "\n",
    "# Load the notebook\n",
    "with open('learning_python_basic1.ipynb', 'r') as f:\n",
    "    nb = nbformat.read(f, as_version=4)\n",
    "\n",
    "# Create a NotebookExporter instance\n",
    "exporter = NotebookExporter()\n",
    "\n",
    "# Export the notebook to a Markdown string\n",
    "body, resources = exporter.from_notebook_node(nb)\n",
    "\n",
    "# Generate a TOC (this is a simplified example; you might need a more complex TOC generator)\n",
    "toc = \"# Table of Contents\\n\"\n",
    "for cell in nb.cells:\n",
    "    if cell.cell_type == 'markdown':\n",
    "        lines = cell.source.split('\\n')\n",
    "        for line in lines:\n",
    "            if line.startswith('#'):\n",
    "                toc += line + '\\n'\n",
    "\n",
    "# Add the TOC to the first Markdown cell in the notebook\n",
    "nb.cells.insert(1, nbformat.v4.new_markdown_cell(toc))\n",
    "\n",
    "# Save the modified notebook\n",
    "with open('learning_python_basic1.ipynb', 'w') as f:\n",
    "    nbformat.write(nb, f)"
   ]
  },
  {
   "cell_type": "markdown",
   "metadata": {},
   "source": [
    "**Description:**<br>\n",
    "Welcome Bud,<br>\n",
    "In this notebook we are explring the basics of python and brushing up simple concepts in python.<br> \n",
    "We'll be working through various exercises curated from W3Schools' Python Basic-I Exercises section.<br>\n",
    "Link: https://www.w3resource.com/python-exercises/python-basic-exercises.php"
   ]
  },
  {
   "cell_type": "markdown",
   "metadata": {},
   "source": [
    "***"
   ]
  },
  {
   "cell_type": "markdown",
   "metadata": {},
   "source": [
    "<strong>Q.1 Write a Python program to print the following string in a specific format.</strong><br>\n",
    "<strong>Sample String: </strong><br>\"Twinkle, twinkle, little star, How I wonder what you are! Up above the world so high, Like a diamond in the sky. Twinkle, twinkle, little star, How I wonder what you are\"\n",
    "\n",
    "**Output:**<br>\n",
    "<pre>\n",
    "Twinkle, twinkle, little star,\n",
    "    How I wonder what you are!\n",
    "        Up above the world so high,\n",
    "        Like a diamond in the sky.\n",
    "Twinkle, twinkle, little star,\n",
    "    How I wonder what you are!   \n",
    "</pre>"
   ]
  },
  {
   "cell_type": "code",
   "execution_count": 4,
   "metadata": {},
   "outputs": [
    {
     "name": "stdout",
     "output_type": "stream",
     "text": [
      "Twinkle, twinkle, little star,\n",
      "\tHow I wonder what you are! \n",
      "\t\tUp above the world so high,   \t\t\n",
      "\t\tLike a diamond in the sky. \n",
      "Twinkle, twinkle, little star, \n",
      "\tHow I wonder what you are!\n"
     ]
    }
   ],
   "source": [
    "# Solution\n",
    "print('''Twinkle, twinkle, little star,\n",
    "\tHow I wonder what you are! \n",
    "\t\tUp above the world so high,   \t\t\n",
    "\t\tLike a diamond in the sky. \n",
    "Twinkle, twinkle, little star, \n",
    "\tHow I wonder what you are!''')"
   ]
  },
  {
   "cell_type": "code",
   "execution_count": 3,
   "metadata": {},
   "outputs": [
    {
     "name": "stdout",
     "output_type": "stream",
     "text": [
      "Twinkle, twinkle, little star,\n",
      "\tHow I wonder what you are!\n",
      "\t\tUp above the world so high,\n",
      "\t\tLike a diamond in the sky.\n",
      "Twinkle, twinkle, little star,\n",
      "\tHow I wonder what you are!\n"
     ]
    }
   ],
   "source": [
    "# Alternate Solution\n",
    "print(f\"Twinkle, twinkle, little star,\\n\\tHow I wonder what you are!\\n\\t\\tUp above the world so high,\\n\\t\\tLike a diamond in the sky.\\nTwinkle, twinkle, little star,\\n\\tHow I wonder what you are!\") "
   ]
  },
  {
   "cell_type": "markdown",
   "metadata": {},
   "source": [
    "***"
   ]
  },
  {
   "cell_type": "code",
   "execution_count": null,
   "metadata": {},
   "outputs": [],
   "source": []
  }
 ],
 "metadata": {
  "kernelspec": {
   "display_name": "Python 3",
   "language": "python",
   "name": "python3"
  },
  "language_info": {
   "codemirror_mode": {
    "name": "ipython",
    "version": 3
   },
   "file_extension": ".py",
   "mimetype": "text/x-python",
   "name": "python",
   "nbconvert_exporter": "python",
   "pygments_lexer": "ipython3",
   "version": "3.11.4"
  }
 },
 "nbformat": 4,
 "nbformat_minor": 2
}
