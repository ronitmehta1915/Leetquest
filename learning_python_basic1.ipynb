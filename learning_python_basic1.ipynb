{
 "cells": [
  {
   "cell_type": "markdown",
   "metadata": {},
   "source": [
    "# Fun With <span style=\"color: green;\">Python</span>\n",
    "### <span style=\"color: red;\">Basics - Part 1</span>"
   ]
  },
  {
   "cell_type": "markdown",
   "metadata": {},
   "source": [
    "**Description:**\n",
    "\n",
    "Welcome, Bud,\n",
    "\n",
    "In this notebook, we are exploring the basics of Python and brushing up on simple concepts through a total of around 150 questions.  \n",
    "We'll work through various exercises curated from W3Schools' Python Basic-I Exercises section.\n",
    "\n",
    "**Link:** [Python Basic-I Exercises](https://www.w3resource.com/python-exercises/python-basic-exercises.php)\n"
   ]
  },
  {
   "cell_type": "markdown",
   "metadata": {},
   "source": [
    "### Table of Contents\n",
    "\n",
    "1. [Question-1](#question-1) - Python program to format and print a string\n",
    "2. [Question-2](#question-2) - Python program to determine the Python version\n",
    "3. [Question-3](#question-3) - Python program to display the current time\n",
    "4. [Question-4](#question-4) - Python program to calculate area of a circle based on radius\n",
    "5. [Question-5](#question-5) - Python program to reverse and print first and last names\n",
    "6. [Question-6](#question-6) - Python program to generate a list and tuple from comma-separated numbers\n",
    "7. [Question-7](#question-7) - Python program to print the file extension\n",
    "8. [Question-8](#question-8) - Python program to display the first and last values of a list\n",
    "9. [Question-9](#question-9) - Python program to display the examination schedule\n",
    "10. [Question-10](#question-10) - Python program to compute the value of n+nn+nnn"
   ]
  },
  {
   "cell_type": "markdown",
   "metadata": {},
   "source": [
    "---"
   ]
  },
  {
   "cell_type": "markdown",
   "metadata": {},
   "source": [
    "## Question-1\n",
    "\n",
    "<strong>Write a Python program to print the following string in a specific format:</strong><br>\n",
    "\n",
    "**Sample String:**<br>\n",
    "\"Twinkle, twinkle, little star, How I wonder what you are!  \n",
    "Up above the world so high, Like a diamond in the sky.  \n",
    "Twinkle, twinkle, little star, How I wonder what you are\"\n",
    "\n",
    "**Expected Output:**  \n",
    "<pre>\n",
    "Twinkle, twinkle, little star,\n",
    "    How I wonder what you are!\n",
    "        Up above the world so high,\n",
    "        Like a diamond in the sky.\n",
    "Twinkle, twinkle, little star,\n",
    "    How I wonder what you are!\n",
    "</pre>\n"
   ]
  },
  {
   "cell_type": "code",
   "execution_count": 7,
   "metadata": {},
   "outputs": [
    {
     "name": "stdout",
     "output_type": "stream",
     "text": [
      "Twinkle, twinkle, little star,\n",
      "\tHow I wonder what you are! \n",
      "\t\tUp above the world so high,   \t\t\n",
      "\t\tLike a diamond in the sky. \n",
      "Twinkle, twinkle, little star, \n",
      "\tHow I wonder what you are!\n"
     ]
    }
   ],
   "source": [
    "# Solution\n",
    "print('''Twinkle, twinkle, little star,\n",
    "\tHow I wonder what you are! \n",
    "\t\tUp above the world so high,   \t\t\n",
    "\t\tLike a diamond in the sky. \n",
    "Twinkle, twinkle, little star, \n",
    "\tHow I wonder what you are!''')"
   ]
  },
  {
   "cell_type": "code",
   "execution_count": 8,
   "metadata": {},
   "outputs": [
    {
     "name": "stdout",
     "output_type": "stream",
     "text": [
      "Twinkle, twinkle, little star,\n",
      "\tHow I wonder what you are!\n",
      "\t\tUp above the world so high,\n",
      "\t\tLike a diamond in the sky.\n",
      "Twinkle, twinkle, little star,\n",
      "\tHow I wonder what you are!\n"
     ]
    }
   ],
   "source": [
    "# Alternate Solution\n",
    "print(f\"Twinkle, twinkle, little star,\\n\\tHow I wonder what you are!\\n\\t\\tUp above the world so high,\\n\\t\\tLike a diamond in the sky.\\nTwinkle, twinkle, little star,\\n\\tHow I wonder what you are!\") "
   ]
  },
  {
   "cell_type": "markdown",
   "metadata": {},
   "source": [
    "***"
   ]
  },
  {
   "cell_type": "markdown",
   "metadata": {},
   "source": [
    "## Question-2\n",
    "\n",
    "<strong>Write a Python program to find out what version of Python you are using.</strong><br>"
   ]
  },
  {
   "cell_type": "code",
   "execution_count": 9,
   "metadata": {},
   "outputs": [
    {
     "name": "stdout",
     "output_type": "stream",
     "text": [
      "Python Version: 3.11.4 (tags/v3.11.4:d2340ef, Jun  7 2023, 05:45:37) [MSC v.1934 64 bit (AMD64)]\n",
      "Version Info: sys.version_info(major=3, minor=11, micro=4, releaselevel='final', serial=0)\n"
     ]
    }
   ],
   "source": [
    "# Solution\n",
    "import sys\n",
    "print(f\"Python Version: {sys.version}\\nVersion Info: {sys.version_info}\")"
   ]
  },
  {
   "cell_type": "markdown",
   "metadata": {},
   "source": [
    "---"
   ]
  },
  {
   "cell_type": "markdown",
   "metadata": {},
   "source": [
    "## Question-3\n",
    "\n",
    "<strong>Write a Python program to display the current date and time.</strong><br>\n",
    "\n",
    "**Expected Output:**\n",
    "<pre>\n",
    "Current date and time :\n",
    "2014-07-05 14:34:14\n",
    "</pre>"
   ]
  },
  {
   "cell_type": "code",
   "execution_count": 9,
   "metadata": {},
   "outputs": [
    {
     "name": "stdout",
     "output_type": "stream",
     "text": [
      "Current date and time :\n",
      "2024-07-19 16:07:38\n"
     ]
    }
   ],
   "source": [
    "# Solution\n",
    "import datetime\n",
    "current_instance=datetime.datetime.now()\n",
    "formatted_current_instance=current_instance.strftime(\"%Y-%M-%d %H:%M:%S\")\n",
    "print(f\"Current date and time :\\n{formatted_current_instance}\")"
   ]
  },
  {
   "cell_type": "markdown",
   "metadata": {},
   "source": [
    "---"
   ]
  },
  {
   "cell_type": "markdown",
   "metadata": {},
   "source": [
    "## Question-4\n",
    "\n",
    "<strong>Write a Python program that calculates the area of a circle based on the radius entered by the user.</strong><br>\n",
    "\n",
    "**Expected Output:**\n",
    "<pre>\n",
    "r = 1.1 \n",
    "Area = 3.8013271108436504\n",
    "</pre>"
   ]
  },
  {
   "cell_type": "code",
   "execution_count": 14,
   "metadata": {},
   "outputs": [
    {
     "name": "stdout",
     "output_type": "stream",
     "text": [
      "r = 1.1\n",
      "Area = 3.8013271108436504\n"
     ]
    }
   ],
   "source": [
    "# Solution\n",
    "import math\n",
    "radius=float(input(\"Enter the radius: \"))\n",
    "area=math.pi*(radius**2)\n",
    "print(f\"r = {radius}\\nArea = {area}\")"
   ]
  },
  {
   "cell_type": "markdown",
   "metadata": {},
   "source": [
    "---"
   ]
  },
  {
   "cell_type": "markdown",
   "metadata": {},
   "source": [
    "## Question-5\n",
    "\n",
    "<strong>Write a Python program that accepts the user's first and last name and prints them in reverse order with a space between them.</strong><br>"
   ]
  },
  {
   "cell_type": "code",
   "execution_count": 17,
   "metadata": {},
   "outputs": [
    {
     "name": "stdout",
     "output_type": "stream",
     "text": [
      "Your full name is: Mehta Ronit\n"
     ]
    }
   ],
   "source": [
    "# Solution\n",
    "first_name=input(\"Enter your first name: \")\n",
    "last_name=input(\"Enter your last name: \")\n",
    "print(f\"Your full name is: {last_name} {first_name}\")"
   ]
  },
  {
   "cell_type": "markdown",
   "metadata": {},
   "source": [
    "---"
   ]
  },
  {
   "cell_type": "markdown",
   "metadata": {},
   "source": [
    "## Question-6\n",
    "\n",
    "<strong>Write a Python program that accepts a sequence of comma-separated numbers from the user and generates a list and a tuple of those numbers.</strong><br>\n",
    "\n",
    "**Sample data:**<br>\n",
    "3, 5, 7, 23\n",
    "\n",
    "**Expected Output:**\n",
    "<pre>\n",
    "List : ['3', '5', '7', '23']\n",
    "Tuple : ('3', '5', '7', '23')\n",
    "</pre>"
   ]
  },
  {
   "cell_type": "code",
   "execution_count": 21,
   "metadata": {},
   "outputs": [
    {
     "name": "stdout",
     "output_type": "stream",
     "text": [
      "List : ['3', '5', '7', '23']\n",
      "Tuple : ('3', '5', '7', '23')\n"
     ]
    }
   ],
   "source": [
    "# Solution\n",
    "data=input(\"Enter the numbers: \")\n",
    "my_list=data.split(',')\n",
    "my_tuple=tuple(my_list)\n",
    "print(f\"List : {my_list}\\nTuple : {my_tuple}\")"
   ]
  },
  {
   "cell_type": "markdown",
   "metadata": {},
   "source": [
    "---"
   ]
  },
  {
   "cell_type": "markdown",
   "metadata": {},
   "source": [
    "## Question-7\n",
    "\n",
    "<strong>Write a Python program that accepts a filename from the user and prints the extension of the file.</strong><br>\n",
    "\n",
    "**Sample filename:**<br>\n",
    "abc.java\n",
    "\n",
    "**Expected Output:**\n",
    "<pre>\n",
    "java\n",
    "</pre>"
   ]
  },
  {
   "cell_type": "code",
   "execution_count": 23,
   "metadata": {},
   "outputs": [
    {
     "name": "stdout",
     "output_type": "stream",
     "text": [
      "java\n"
     ]
    }
   ],
   "source": [
    "# Solution\n",
    "filename=input(\"Enter the filename: \")\n",
    "file_type=filename.split(\".\")\n",
    "print(file_type[-1])"
   ]
  },
  {
   "cell_type": "markdown",
   "metadata": {},
   "source": [
    "---"
   ]
  },
  {
   "cell_type": "markdown",
   "metadata": {},
   "source": [
    "## Question-8\n",
    "\n",
    "<strong>Write a Python program to display the first and last colors from the following list.</strong><br>\n",
    "\n",
    "**Sample data:**<br>\n",
    "color_list = [\"Red\",\"Green\",\"White\" ,\"Black\"]\n",
    "\n",
    "**Expected Output:**\n",
    "<pre>\n",
    "Red Black\n",
    "</pre>"
   ]
  },
  {
   "cell_type": "code",
   "execution_count": 25,
   "metadata": {},
   "outputs": [
    {
     "name": "stdout",
     "output_type": "stream",
     "text": [
      "Red Black\n"
     ]
    }
   ],
   "source": [
    "# Solution\n",
    "color_list=[\"Red\", \"Green\", \"White\", \"Black\"]\n",
    "print(f\"{color_list[0]} {color_list[-1]}\")"
   ]
  },
  {
   "cell_type": "markdown",
   "metadata": {},
   "source": [
    "---"
   ]
  },
  {
   "cell_type": "markdown",
   "metadata": {},
   "source": [
    "## Question-9\n",
    "\n",
    "<strong>Write a Python program to display the examination schedule. (extract the date from exam_st_date)</strong><br>\n",
    "\n",
    "**Sample data:**<br>\n",
    "exam_st_date = (11, 12, 2014)\n",
    "\n",
    "**Expected Output:**\n",
    "<pre>\n",
    "The examination will start from : 11/ 12/ 2014\n",
    "</pre>"
   ]
  },
  {
   "cell_type": "code",
   "execution_count": 29,
   "metadata": {},
   "outputs": [
    {
     "name": "stdout",
     "output_type": "stream",
     "text": [
      "The examination will start from: 11/ 12/ 2014\n"
     ]
    }
   ],
   "source": [
    "# Solution\n",
    "exam_st_date=(11, 12, 2014)\n",
    "print(f\"The examination will start from: {exam_st_date[0]}/ {exam_st_date[1]}/ {exam_st_date[2]}\")"
   ]
  },
  {
   "cell_type": "markdown",
   "metadata": {},
   "source": [
    "---"
   ]
  },
  {
   "cell_type": "markdown",
   "metadata": {},
   "source": [
    "## Question-10\n",
    "\n",
    "<strong>Write a Python program that accepts an integer (n) and computes the value of n+nn+nnn.</strong><br>\n",
    "\n",
    "**Sample data:**<br>\n",
    "n=5\n",
    "\n",
    "**Expected Output:**\n",
    "<pre>\n",
    "615\n",
    "</pre>"
   ]
  },
  {
   "cell_type": "code",
   "execution_count": 42,
   "metadata": {},
   "outputs": [
    {
     "name": "stdout",
     "output_type": "stream",
     "text": [
      "615\n"
     ]
    }
   ],
   "source": [
    "# Solution\n",
    "n=int(input(\"Enter the integer: \"))\n",
    "print(n+int(f'{n}{n}')+int(f'{n}{n}{n}'))"
   ]
  },
  {
   "cell_type": "markdown",
   "metadata": {},
   "source": [
    "---"
   ]
  },
  {
   "cell_type": "code",
   "execution_count": null,
   "metadata": {},
   "outputs": [],
   "source": []
  }
 ],
 "metadata": {
  "kernelspec": {
   "display_name": "Python 3",
   "language": "python",
   "name": "python3"
  },
  "language_info": {
   "codemirror_mode": {
    "name": "ipython",
    "version": 3
   },
   "file_extension": ".py",
   "mimetype": "text/x-python",
   "name": "python",
   "nbconvert_exporter": "python",
   "pygments_lexer": "ipython3",
   "version": "3.11.4"
  }
 },
 "nbformat": 4,
 "nbformat_minor": 2
}
