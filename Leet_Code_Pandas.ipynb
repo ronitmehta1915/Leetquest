{
 "cells": [
  {
   "cell_type": "markdown",
   "metadata": {},
   "source": [
    "## Introduction to <span style=\"color: green;\">Pandas</span>"
   ]
  },
  {
   "cell_type": "markdown",
   "metadata": {},
   "source": [
    "**Pandas** is a powerful Python library for data manipulation and analysis. It provides high-performance data structures and data analysis tools that make working with structured data easy and efficient.\n",
    "\n",
    "**Pandas Provides two types of classes for handling data:**\n",
    "\n",
    "* **Series:**\n",
    "    * A one-dimensional labeled array capable of holding any data type (integers, floats, strings, objects, etc.).\n",
    "    * Each element in a Series is associated with a label, which can be any immutable object (e.g., strings, integers, or tuples).\n",
    "    * Series objects are often created from Python lists or NumPy arrays.\n",
    "* **DataFrame:**\n",
    "    * A two-dimensional labeled data structure with rows and columns.\n",
    "    * Each column in a DataFrame is a Series object, and each row is a dictionary-like object.\n",
    "    * DataFrames can be created from various sources, such as Python dictionaries, lists of lists, or NumPy arrays.\n",
    "\n",
    "**Installation Process:**\n",
    "\n",
    "* **Using pip:** pip install pandas\n",
    "* **Using conda:** conda install pandas\n",
    "\n",
    "* For more help with installation: https://pandas.pydata.org/docs/getting_started/install.html"
   ]
  },
  {
   "cell_type": "markdown",
   "metadata": {},
   "source": [
    "<span style=\"color: orange;\">Lets begin with practice</span>\n",
    "* Leetcode Practice Link: https://leetcode.com/studyplan/introduction-to-pandas/"
   ]
  },
  {
   "cell_type": "markdown",
   "metadata": {},
   "source": [
    "***"
   ]
  },
  {
   "cell_type": "markdown",
   "metadata": {},
   "source": [
    "### Q1 Create a Database from List                                                                                \n",
    "### Difficulty: <span style=\"color: red;\">Easy</span>\n",
    "Write a solution to create a DataFrame from a 2D list called <span style=\"color: green;\">student_data</span>. This 2D list contains the IDs and ages of some students.\n",
    "The DataFrame should have two columns, <span style=\"color: green;\">student_id</span> and <span style=\"color: green;\">age</span>, and be in the same order as the original 2D list.\n",
    "The result format is in the following example."
   ]
  },
  {
   "cell_type": "markdown",
   "metadata": {},
   "source": [
    "**Input:**\n",
    "\n",
    "```python\n",
    "student_data = [\n",
    "  [1, 15],\n",
    "  [2, 11],\n",
    "  [3, 11],\n",
    "  [4, 20]\n",
    "]"
   ]
  },
  {
   "cell_type": "markdown",
   "metadata": {},
   "source": [
    "**Output:**\n",
    "\n",
    "| student_id | age |\n",
    "|---|---|\n",
    "| 1 | 15 |\n",
    "| 2 | 11 |\n",
    "| 3 | 11 |\n",
    "| 4 | 20 |\n",
    "\n",
    "\n",
    "Explanation: A DataFrame was created on top of student_data, with two columns named <span style=\"color: green;\">student_id</span> and <span style=\"color: green;\">age</span>."
   ]
  },
  {
   "cell_type": "code",
   "execution_count": 2,
   "metadata": {},
   "outputs": [
    {
     "name": "stdout",
     "output_type": "stream",
     "text": [
      "   student_id  age\n",
      "0           1   15\n",
      "1           2   11\n",
      "2           3   11\n",
      "3           4   20\n"
     ]
    }
   ],
   "source": [
    "import pandas as pd\n",
    "student_data=[[1, 15], [2, 11], [3, 11], [4, 20]]\n",
    "df=pd.DataFrame(student_data, columns=['student_id', 'age'])\n",
    "print(df.head())"
   ]
  },
  {
   "cell_type": "markdown",
   "metadata": {},
   "source": [
    "***"
   ]
  },
  {
   "cell_type": "code",
   "execution_count": null,
   "metadata": {},
   "outputs": [],
   "source": []
  }
 ],
 "metadata": {
  "kernelspec": {
   "display_name": "Python 3",
   "language": "python",
   "name": "python3"
  },
  "language_info": {
   "codemirror_mode": {
    "name": "ipython",
    "version": 3
   },
   "file_extension": ".py",
   "mimetype": "text/x-python",
   "name": "python",
   "nbconvert_exporter": "python",
   "pygments_lexer": "ipython3",
   "version": "3.11.4"
  }
 },
 "nbformat": 4,
 "nbformat_minor": 2
}
