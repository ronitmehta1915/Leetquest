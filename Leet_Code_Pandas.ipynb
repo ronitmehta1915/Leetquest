{
 "cells": [
  {
   "cell_type": "markdown",
   "metadata": {},
   "source": [
    "## Introduction to <span style=\"color: green;\">Pandas</span>"
   ]
  },
  {
   "cell_type": "markdown",
   "metadata": {},
   "source": [
    "**Pandas** is a powerful Python library for data manipulation and analysis. It provides high-performance data structures and data analysis tools that make working with structured data easy and efficient.\n",
    "\n",
    "**Pandas Provides two types of classes for handling data:**\n",
    "\n",
    "* **Series:**\n",
    "    * A one-dimensional labeled array capable of holding any data type (integers, floats, strings, objects, etc.).\n",
    "    * Each element in a Series is associated with a label, which can be any immutable object (e.g., strings, integers, or tuples).\n",
    "    * Series objects are often created from Python lists or NumPy arrays.\n",
    "* **DataFrame:**\n",
    "    * A two-dimensional labeled data structure with rows and columns.\n",
    "    * Each column in a DataFrame is a Series object, and each row is a dictionary-like object.\n",
    "    * DataFrames can be created from various sources, such as Python dictionaries, lists of lists, or NumPy arrays.\n",
    "\n",
    "**Installation Process:**\n",
    "\n",
    "* **Using pip:** pip install pandas\n",
    "* **Using conda:** conda install pandas\n",
    "\n",
    "* For more help with installation: https://pandas.pydata.org/docs/getting_started/install.html"
   ]
  },
  {
   "cell_type": "markdown",
   "metadata": {},
   "source": [
    "<span style=\"color: orange;\">Lets begin with practice</span>\n",
    "* Leetcode Practice Link: https://leetcode.com/studyplan/introduction-to-pandas/"
   ]
  },
  {
   "cell_type": "markdown",
   "metadata": {},
   "source": [
    "***"
   ]
  },
  {
   "cell_type": "markdown",
   "metadata": {},
   "source": [
    "### Q1 Create a Database from List                                                                                \n",
    "### Difficulty: <span style=\"color: red;\">Easy</span>\n",
    "Write a solution to create a DataFrame from a 2D list called <span style=\"color: green;\">student_data</span>. This 2D list contains the IDs and ages of some students.\n",
    "The DataFrame should have two columns, <span style=\"color: green;\">student_id</span> and <span style=\"color: green;\">age</span>, and be in the same order as the original 2D list.\n",
    "The result format is in the following example."
   ]
  },
  {
   "cell_type": "markdown",
   "metadata": {},
   "source": [
    "**Example Input:**\n",
    "\n",
    "```python\n",
    "student_data = [\n",
    "  [1, 15],\n",
    "  [2, 11],\n",
    "  [3, 11],\n",
    "  [4, 20]\n",
    "]"
   ]
  },
  {
   "cell_type": "markdown",
   "metadata": {},
   "source": [
    "**Output:**\n",
    "\n",
    "| student_id | age |\n",
    "|---|---|\n",
    "| 1 | 15 |\n",
    "| 2 | 11 |\n",
    "| 3 | 11 |\n",
    "| 4 | 20 |\n",
    "\n",
    "\n",
    "Explanation: A DataFrame was created on top of student_data, with two columns named <span style=\"color: green;\">student_id</span> and <span style=\"color: green;\">age</span>."
   ]
  },
  {
   "cell_type": "code",
   "execution_count": 2,
   "metadata": {},
   "outputs": [
    {
     "name": "stdout",
     "output_type": "stream",
     "text": [
      "   student_id  age\n",
      "0           1   15\n",
      "1           2   11\n",
      "2           3   11\n",
      "3           4   20\n"
     ]
    }
   ],
   "source": [
    "#Solution\n",
    "import pandas as pd\n",
    "student_data=[[1, 15], [2, 11], [3, 11], [4, 20]]\n",
    "df=pd.DataFrame(student_data, columns=['student_id', 'age'])\n",
    "print(df.head())"
   ]
  },
  {
   "cell_type": "markdown",
   "metadata": {},
   "source": [
    "***"
   ]
  },
  {
   "cell_type": "markdown",
   "metadata": {},
   "source": [
    "### Q2 Get the Size of a DataFrame                                                                               \n",
    "### Difficulty: <span style=\"color: red;\">Easy</span>\n",
    "\n",
    "* DataFrame <span style=\"color: green;\">players</span>\n",
    "\n",
    "| Column Name | Type |\n",
    "|---|---|\n",
    "| player_id | int |\n",
    "| name | object |\n",
    "| age | int |\n",
    "| position | object |\n",
    "| ... | ... |\n",
    "\n",
    "\n"
   ]
  },
  {
   "cell_type": "markdown",
   "metadata": {},
   "source": [
    "Write a solution to calculate and display the number of rows and columns of <span style=\"color: green;\">players</span>.<br>\n",
    "Return the result as an array:<br>\n",
    "<span style=\"color: green;\">[number of rows, number of columns]</span>"
   ]
  },
  {
   "cell_type": "markdown",
   "metadata": {},
   "source": [
    "**Example Input:**\n",
    "\n",
    "| player_id | name     | age | position    | team               |\n",
    "|-----------|----------|-----|-------------|--------------------|\n",
    "| 846       | Mason    | 21  | Forward     | RealMadrid         |\n",
    "| 749       | Riley    | 30  | Winger      | Barcelona          |\n",
    "| 155       | Bob      | 28  | Striker     | ManchesterUnited   |\n",
    "| 583       | Isabella | 32  | Goalkeeper  | Liverpool          |\n",
    "| 388       | Zachary  | 24  | Midfielder  | BayernMunich       |\n",
    "| 883       | Ava      | 23  | Defender    | Chelsea            |\n",
    "| 355       | Violet   | 18  | Striker     | Juventus           |\n",
    "| 247       | Thomas   | 27  | Striker     | ParisSaint-Germain |\n",
    "| 761       | Jack     | 33  | Midfielder  | ManchesterCity     |\n",
    "| 642       | Charlie  | 36  | Center-back | Arsenal            |"
   ]
  },
  {
   "cell_type": "markdown",
   "metadata": {},
   "source": [
    "**Output:**\n",
    "[10, 5]\n",
    "\n",
    "**Explanation:**\n",
    "This DataFrame contains 10 rows and 5 columns."
   ]
  },
  {
   "cell_type": "code",
   "execution_count": 10,
   "metadata": {},
   "outputs": [
    {
     "name": "stdout",
     "output_type": "stream",
     "text": [
      "   player_id      name  age    position              team\n",
      "0        846     Mason   21     Forward        RealMadrid\n",
      "1        749     Riley   30      Winger         Barcelona\n",
      "2        155       Bob   28     Striker  ManchesterUnited\n",
      "3        583  Isabella   32  Goalkeeper         Liverpool\n",
      "4        388   Zachary   24  Midfielder      BayernMunich\n"
     ]
    }
   ],
   "source": [
    "#Solution\n",
    "import pandas as pd\n",
    "players=[\n",
    "    [\"player_id\", \"name\", \"age\", \"position\", \"team\"],\n",
    "    [846, \"Mason\", 21, \"Forward\", \"RealMadrid\"],\n",
    "    [749, \"Riley\", 30, \"Winger\", \"Barcelona\"],\n",
    "    [155, \"Bob\", 28, \"Striker\", \"ManchesterUnited\"],\n",
    "    [583, \"Isabella\", 32, \"Goalkeeper\", \"Liverpool\"],\n",
    "    [388, \"Zachary\", 24, \"Midfielder\", \"BayernMunich\"],\n",
    "    [883, \"Ava\", 23, \"Defender\", \"Chelsea\"],\n",
    "    [355, \"Violet\", 18, \"Striker\", \"Juventus\"],\n",
    "    [247, \"Thomas\", 27, \"Striker\", \"ParisSaint-Germain\"],\n",
    "    [761, \"Jack\", 33, \"Midfielder\", \"ManchesterCity\"],\n",
    "    [642, \"Charlie\", 36, \"Center-back\", \"Arsenal\"]\n",
    "]\n",
    "\n",
    "df=pd.DataFrame(players[1:], columns=players[0]) #Here we used slicing so that the first row is considered as the column headers and every row from index 1 is our actual data\n",
    "print(df.head())"
   ]
  },
  {
   "cell_type": "code",
   "execution_count": 12,
   "metadata": {},
   "outputs": [
    {
     "name": "stdout",
     "output_type": "stream",
     "text": [
      "[10, 5]\n"
     ]
    }
   ],
   "source": [
    "print(list(df.shape))  #We needed our output as a list and df.shape gives us the output as a tuple which is why we used the list method to convert this tuple to list"
   ]
  },
  {
   "cell_type": "markdown",
   "metadata": {},
   "source": [
    "***"
   ]
  },
  {
   "cell_type": "markdown",
   "metadata": {},
   "source": [
    "### Q3 Display the First Three Rows\n",
    "### Difficulty: <span style=\"color: red;\">Easy</span>\n",
    "Write a solution to display the first <span style=\"color: green;\">3</span> rows of this DataFrame."
   ]
  },
  {
   "cell_type": "markdown",
   "metadata": {},
   "source": [
    "**Example Input:**\n",
    "* DataFrame: <span style=\"color: green;\">employees</span>\n",
    "\n",
    "| employee_id | name      | department            | salary |\n",
    "| ----------- | --------- | --------------------- | ------ |\n",
    "| 3           | Bob       | Operations            | 48675  |\n",
    "| 90          | Alice     | Sales                 | 11096  |\n",
    "| 9           | Tatiana   | Engineering           | 33805  |\n",
    "| 60          | Annabelle | InformationTechnology | 37678  |\n",
    "| 49          | Jonathan  | HumanResources        | 23793  |\n",
    "| 43          | Khaled    | Administration        | 40454  |"
   ]
  },
  {
   "cell_type": "markdown",
   "metadata": {},
   "source": [
    "**Output:**\n",
    "| employee_id | name      | department            | salary |\n",
    "| ----------- | --------- | --------------------- | ------ |\n",
    "| 3           | Bob       | Operations            | 48675  |\n",
    "| 90          | Alice     | Sales                 | 11096  |\n",
    "| 9           | Tatiana   | Engineering           | 33805  |\n",
    "\n",
    "**Explanation:**\n",
    "Only the first 3 rows are displayed."
   ]
  },
  {
   "cell_type": "code",
   "execution_count": 7,
   "metadata": {},
   "outputs": [
    {
     "name": "stdout",
     "output_type": "stream",
     "text": [
      "   employee_id       name             department  salary\n",
      "0            3        Bob             Operations   48675\n",
      "1           90      Alice                  Sales   11096\n",
      "2            9    Tatiana            Engineering   33805\n",
      "3           60  Annabelle  InformationTechnology   37678\n",
      "4           49   Jonathan         HumanResources   23793\n"
     ]
    }
   ],
   "source": [
    "#Solution\n",
    "import pandas as pd\n",
    "employees=[\n",
    "    [\"employee_id\", \"name\", \"department\", \"salary\"],\n",
    "    [3, \"Bob\", \"Operations\", 48675],\n",
    "    [90, \"Alice\", \"Sales\", 11096],\n",
    "    [9, \"Tatiana\", \"Engineering\", 33805],\n",
    "    [60, \"Annabelle\", \"InformationTechnology\", 37678],\n",
    "    [49, \"Jonathan\", \"HumanResources\", 23793],\n",
    "    [43, \"Khaled\", \"Administration\", 40454]\n",
    "]\n",
    "df=pd.DataFrame(employees[1:], columns=employees[0])\n",
    "print(df.head())"
   ]
  },
  {
   "cell_type": "code",
   "execution_count": 5,
   "metadata": {},
   "outputs": [
    {
     "data": {
      "text/html": [
       "<div>\n",
       "<style scoped>\n",
       "    .dataframe tbody tr th:only-of-type {\n",
       "        vertical-align: middle;\n",
       "    }\n",
       "\n",
       "    .dataframe tbody tr th {\n",
       "        vertical-align: top;\n",
       "    }\n",
       "\n",
       "    .dataframe thead th {\n",
       "        text-align: right;\n",
       "    }\n",
       "</style>\n",
       "<table border=\"1\" class=\"dataframe\">\n",
       "  <thead>\n",
       "    <tr style=\"text-align: right;\">\n",
       "      <th></th>\n",
       "      <th>employee_id</th>\n",
       "      <th>name</th>\n",
       "      <th>department</th>\n",
       "      <th>salary</th>\n",
       "    </tr>\n",
       "  </thead>\n",
       "  <tbody>\n",
       "    <tr>\n",
       "      <th>0</th>\n",
       "      <td>3</td>\n",
       "      <td>Bob</td>\n",
       "      <td>Operations</td>\n",
       "      <td>48675</td>\n",
       "    </tr>\n",
       "    <tr>\n",
       "      <th>1</th>\n",
       "      <td>90</td>\n",
       "      <td>Alice</td>\n",
       "      <td>Sales</td>\n",
       "      <td>11096</td>\n",
       "    </tr>\n",
       "    <tr>\n",
       "      <th>2</th>\n",
       "      <td>9</td>\n",
       "      <td>Tatiana</td>\n",
       "      <td>Engineering</td>\n",
       "      <td>33805</td>\n",
       "    </tr>\n",
       "  </tbody>\n",
       "</table>\n",
       "</div>"
      ],
      "text/plain": [
       "   employee_id     name   department  salary\n",
       "0            3      Bob   Operations   48675\n",
       "1           90    Alice        Sales   11096\n",
       "2            9  Tatiana  Engineering   33805"
      ]
     },
     "execution_count": 5,
     "metadata": {},
     "output_type": "execute_result"
    }
   ],
   "source": [
    "#To print the first particular number of rows, simply define the head argument with the nth element (in our case 3)\n",
    "df.head(3)"
   ]
  },
  {
   "cell_type": "markdown",
   "metadata": {},
   "source": [
    "***"
   ]
  },
  {
   "cell_type": "markdown",
   "metadata": {},
   "source": [
    "### Q4 Select Data\n",
    "### Difficulty: <span style=\"color: red;\">Easy</span>\n",
    "Write a solution to select the name and age of the student with <span style=\"color: green;\">student_id = 101</span>."
   ]
  },
  {
   "cell_type": "markdown",
   "metadata": {},
   "source": [
    "* DataFrame <span style=\"color: green;\">students</span>\n",
    "\n",
    "| Column Name | Type |\n",
    "|---|---|\n",
    "| student_id | int |\n",
    "| name | object |\n",
    "| age | int |"
   ]
  },
  {
   "cell_type": "markdown",
   "metadata": {},
   "source": [
    "**Example Input:**\n",
    "\n",
    "| student_id | name    | age |\n",
    "| ---------- | ------- | --- |\n",
    "| 101        | Ulysses | 13  |\n",
    "| 53         | William | 10  |\n",
    "| 128        | Henry   | 6   |\n",
    "| 3          | Henry   | 11  |"
   ]
  },
  {
   "cell_type": "markdown",
   "metadata": {},
   "source": [
    "**Output:**\n",
    "\n",
    "| name    | age |\n",
    "| ------- | --- |\n",
    "| Ulysses | 13  |\n",
    "\n",
    "**Explaination:**\n",
    "Student Ulysses has student_id = 101, we select the name and age."
   ]
  },
  {
   "cell_type": "code",
   "execution_count": 9,
   "metadata": {},
   "outputs": [
    {
     "name": "stdout",
     "output_type": "stream",
     "text": [
      "   student_id     name  age\n",
      "0         101  Ulysses   13\n",
      "1          53  William   10\n",
      "2         128    Henry    6\n",
      "3           3    Henry   11\n"
     ]
    }
   ],
   "source": [
    "#Solution\n",
    "import pandas as pd\n",
    "students=[\n",
    "    [\"student_id\", \"name\", \"age\"],\n",
    "    [101, \"Ulysses\", 13],\n",
    "    [53, \"William\", 10],\n",
    "    [128, \"Henry\", 6],\n",
    "    [3, \"Henry\", 11]\n",
    "]\n",
    "df=pd.DataFrame(students[1:], columns=students[0])\n",
    "print(df.head())"
   ]
  },
  {
   "cell_type": "code",
   "execution_count": 43,
   "metadata": {},
   "outputs": [
    {
     "name": "stdout",
     "output_type": "stream",
     "text": [
      "      name  age\n",
      "0  Ulysses   13\n"
     ]
    }
   ],
   "source": [
    "# We use .iloc which helps up in slicing the DataFrame based on rows and columns, the first parameter for iloc is for rows while the second is for column.\n",
    "# \":\" A semicolon means selecting every row in the first parameter and for column we needed columns name and age which are at index 1 and 2 respectively so\n",
    "# the second parameter we start slicing from index 1 till the end\n",
    "print(df[df[\"student_id\"]==101].iloc[:,1:])"
   ]
  },
  {
   "cell_type": "markdown",
   "metadata": {},
   "source": [
    "***"
   ]
  },
  {
   "cell_type": "markdown",
   "metadata": {},
   "source": [
    "### Q5 Create a New Column\n",
    "### Difficulty: <span style=\"color: red;\">Easy</span>\n",
    "* DataFrame <span style=\"color: green;\">employees</span>\n",
    "\n",
    "| Column Name | Type |\n",
    "|---|---|\n",
    "| name | object |\n",
    "| salary | int |"
   ]
  },
  {
   "cell_type": "markdown",
   "metadata": {},
   "source": [
    "A company plans to provide its employees with a bonus.<br>\n",
    "Write a solution to create a new column name <span style=\"color: green;\">bonus</span> that contains the <strong>doubled values</strong> of the <span style=\"color: green;\">salary</span> column."
   ]
  },
  {
   "cell_type": "markdown",
   "metadata": {},
   "source": [
    "**Example Input:**\n",
    "| name    | salary |\n",
    "| ------- | ------ |\n",
    "| Piper   | 4548   |\n",
    "| Grace   | 28150  |\n",
    "| Georgia | 1103   |\n",
    "| Willow  | 6593   |\n",
    "| Finn    | 74576  |\n",
    "| Thomas  | 24433  |"
   ]
  },
  {
   "cell_type": "markdown",
   "metadata": {},
   "source": [
    "**Output:**\n",
    "| name    | salary | bonus |\n",
    "| ------- | ------ | ------- |\n",
    "| Piper   | 4548   | 9096 |\n",
    "| Grace   | 28150  | 56300 |\n",
    "| Georgia | 1103   | 2206 |\n",
    "| Willow  | 6593   | 13186 |\n",
    "| Finn    | 74576  | 149152 |\n",
    "| Thomas  | 24433  | 48866 |\n",
    "\n",
    "**Explanation:**\n",
    "A new column bonus is created by doubling the value in the column salary."
   ]
  },
  {
   "cell_type": "code",
   "execution_count": 44,
   "metadata": {},
   "outputs": [
    {
     "name": "stdout",
     "output_type": "stream",
     "text": [
      "      name  salary\n",
      "0    Piper    4548\n",
      "1    Grace   28150\n",
      "2  Georgia    1103\n",
      "3   Willow    6593\n",
      "4     Finn   74576\n"
     ]
    }
   ],
   "source": [
    "#Solution\n",
    "import pandas as pd\n",
    "employees=[\n",
    "    [\"name\", \"salary\"],\n",
    "    [\"Piper\", 4548],\n",
    "    [\"Grace\", 28150],\n",
    "    [\"Georgia\", 1103],\n",
    "    [\"Willow\", 6593],\n",
    "    [\"Finn\", 74576],\n",
    "    [\"Thomas\", 24433]\n",
    "]\n",
    "df=pd.DataFrame(employees[1:], columns=employees[0])\n",
    "print(df.head())"
   ]
  },
  {
   "cell_type": "code",
   "execution_count": 45,
   "metadata": {},
   "outputs": [
    {
     "name": "stdout",
     "output_type": "stream",
     "text": [
      "      name  salary   bonus\n",
      "0    Piper    4548    9096\n",
      "1    Grace   28150   56300\n",
      "2  Georgia    1103    2206\n",
      "3   Willow    6593   13186\n",
      "4     Finn   74576  149152\n"
     ]
    }
   ],
   "source": [
    "df[\"bonus\"]=df[\"salary\"]*2 #We simply initiate a new value and its value to double of salary column.\n",
    "print(df.head())"
   ]
  },
  {
   "cell_type": "markdown",
   "metadata": {},
   "source": [
    "***"
   ]
  },
  {
   "cell_type": "markdown",
   "metadata": {},
   "source": [
    "### Q6 Drop Duplicate Columns\n",
    "### Difficulty: <span style=\"color: red;\">Easy</span>\n",
    "* DataFrame <span style=\"color: green;\">customers</span>\n",
    "\n",
    "| Column Name | Type |\n",
    "|---|---|\n",
    "| customer_id | int |\n",
    "| name | object |\n",
    "| email | object |"
   ]
  },
  {
   "cell_type": "markdown",
   "metadata": {},
   "source": [
    "There are some duplicate rows in the DataFrame based on the <span style=\"color: green;\">email</span> column.<br>\n",
    "Write a solution to remove these duplicate rows and keep only the <strong>first</strong> occurrence.<br>\n",
    "The result format is in the following example."
   ]
  },
  {
   "cell_type": "markdown",
   "metadata": {},
   "source": [
    "**Example Input:**\n",
    "| customer_id | name    | email               |\n",
    "| ----------- | ------- | ------------------- |\n",
    "| 1           | Ella    | emily@example.com   |\n",
    "| 2           | David   | michael@example.com |\n",
    "| 3           | Zachary | sarah@example.com   |\n",
    "| 4           | Alice   | john@example.com    |\n",
    "| 5           | Finn    | john@example.com    |\n",
    "| 6           | Violet  | alice@example.com   |\n",
    "\n",
    "**Output:**\n",
    "| customer_id | name    | email               |\n",
    "| ----------- | ------- | ------------------- |\n",
    "| 1           | Ella    | emily@example.com   |\n",
    "| 2           | David   | michael@example.com |\n",
    "| 3           | Zachary | sarah@example.com   |\n",
    "| 4           | Alice   | john@example.com    |\n",
    "| 6           | Violet  | alice@example.com   |\n",
    "\n",
    "**Explanation:**\n",
    "Alic (customer_id = 4) and Finn (customer_id = 5) both use john@example.com, so only the first occurrence of this email is retained."
   ]
  },
  {
   "cell_type": "code",
   "execution_count": 59,
   "metadata": {},
   "outputs": [
    {
     "name": "stdout",
     "output_type": "stream",
     "text": [
      "   customer_id     name                email\n",
      "0            1     Ella    emily@example.com\n",
      "1            2    David  michael@example.com\n",
      "2            3  Zachary    sarah@example.com\n",
      "3            4    Alice     john@example.com\n",
      "4            5     Finn     john@example.com\n"
     ]
    }
   ],
   "source": [
    "#Solution\n",
    "import pandas as pd\n",
    "customers=[\n",
    "    [\"customer_id\", \"name\", \"email\"],\n",
    "    [1, \"Ella\", \"emily@example.com\"],\n",
    "    [2, \"David\", \"michael@example.com\"],\n",
    "    [3, \"Zachary\", \"sarah@example.com\"],\n",
    "    [4, \"Alice\", \"john@example.com\"],\n",
    "    [5, \"Finn\", \"john@example.com\"],\n",
    "    [6, \"Violet\", \"alice@example.com\"]\n",
    "]\n",
    "df=pd.DataFrame(customers[1:], columns=customers[0])\n",
    "print(df.head())"
   ]
  },
  {
   "cell_type": "code",
   "execution_count": 60,
   "metadata": {},
   "outputs": [
    {
     "name": "stdout",
     "output_type": "stream",
     "text": [
      "   customer_id     name                email\n",
      "0            1     Ella    emily@example.com\n",
      "1            2    David  michael@example.com\n",
      "2            3  Zachary    sarah@example.com\n",
      "3            4    Alice     john@example.com\n",
      "5            6   Violet    alice@example.com\n"
     ]
    }
   ],
   "source": [
    "df_unique=df.drop_duplicates(\"email\", keep='first')\n",
    "print(df_unique)"
   ]
  },
  {
   "cell_type": "markdown",
   "metadata": {},
   "source": [
    "***"
   ]
  },
  {
   "cell_type": "markdown",
   "metadata": {},
   "source": [
    "### Q7 Drop Missing Data\n",
    "### Difficulty: <span style=\"color: red;\">Easy</span>\n",
    "* DataFrame <span style=\"color: green;\">students</span>\n",
    "\n",
    "| Column Name | Type |\n",
    "|---|---|\n",
    "| student_id | int |\n",
    "| name | object |\n",
    "| age | int |"
   ]
  },
  {
   "cell_type": "markdown",
   "metadata": {},
   "source": [
    "There are some rows having missing values in the <span style=\"color: green;\">name</span> column.<br>\n",
    "Write a solution to remove the rows with missing values.<br>"
   ]
  },
  {
   "cell_type": "markdown",
   "metadata": {},
   "source": [
    "**Example Input:**\n",
    "| student_id | name    | age |\n",
    "| ---------- | ------- | --- |\n",
    "| 32         | Piper   | 5   |\n",
    "| 217        | null    | 19  |\n",
    "| 779        | Georgia | 20  |\n",
    "| 849        | Willow  | 14  |\n",
    "\n",
    "**Output:**\n",
    "| student_id | name    | age |\n",
    "| ---------- | ------- | --- |\n",
    "| 32         | Piper   | 5   |\n",
    "| 779        | Georgia | 20  |\n",
    "| 849        | Willow  | 14  |\n",
    "\n",
    "**Explanation:**\n",
    "Student with id 217 havs empty value in the name column, so it will be removed."
   ]
  },
  {
   "cell_type": "code",
   "execution_count": 12,
   "metadata": {},
   "outputs": [
    {
     "name": "stdout",
     "output_type": "stream",
     "text": [
      "   student_id     name  age\n",
      "0          32    Piper    5\n",
      "1         217     None   19\n",
      "2         779  Georgia   20\n",
      "3         849   Willow   14\n"
     ]
    }
   ],
   "source": [
    "#Solution\n",
    "import pandas as pd\n",
    "students=data = [\n",
    "    [\"student_id\", \"name\", \"age\"],\n",
    "    [32, \"Piper\", 5],\n",
    "    [217, None, 19],\n",
    "    [779, \"Georgia\", 20],\n",
    "    [849, \"Willow\", 14]\n",
    "]\n",
    "df=pd.DataFrame(students[1:], columns=students[0])\n",
    "print(df.head())"
   ]
  },
  {
   "cell_type": "code",
   "execution_count": 6,
   "metadata": {},
   "outputs": [
    {
     "name": "stdout",
     "output_type": "stream",
     "text": [
      "   student_id     name  age\n",
      "0          32    Piper    5\n",
      "2         779  Georgia   20\n",
      "3         849   Willow   14\n"
     ]
    }
   ],
   "source": [
    "df_cleaned=df.dropna(subset=\"name\", inplace=False)\n",
    "print(df_cleaned)"
   ]
  },
  {
   "cell_type": "markdown",
   "metadata": {},
   "source": [
    "***"
   ]
  },
  {
   "cell_type": "markdown",
   "metadata": {},
   "source": [
    "### Q8 Modify Columns\n",
    "### Difficulty: <span style=\"color: red;\">Easy</span>\n",
    "* DataFrame <span style=\"color: green;\">employees</span>\n",
    "\n",
    "| Column Name | Type |\n",
    "|---|---|\n",
    "| name | object |\n",
    "| salary | int |"
   ]
  },
  {
   "cell_type": "markdown",
   "metadata": {},
   "source": [
    "A company intends to give its employees a pay rise.<br>\n",
    "Write a solution to <strong>modify</strong> the <span style=\"color: green;\">salary</span> column by multiplying each salary by 2.<br>"
   ]
  },
  {
   "cell_type": "markdown",
   "metadata": {},
   "source": [
    "**Example Input:**\n",
    "| name    | salary |\n",
    "| ------- | ------ |\n",
    "| Jack    | 19666  |\n",
    "| Piper   | 74754  |\n",
    "| Mia     | 62509  |\n",
    "| Ulysses | 54866  |\n",
    "\n",
    "**Output:**\n",
    "| name    | salary |\n",
    "| ------- | ------- |\n",
    "| Jack    | 39332  |\n",
    "| Piper   | 149508  |\n",
    "| Mia     | 125018  |\n",
    "| Ulysses | 109732  |\n",
    "\n",
    "**Explanation:**\n",
    "Every salary has been doubled."
   ]
  },
  {
   "cell_type": "code",
   "execution_count": 14,
   "metadata": {},
   "outputs": [
    {
     "name": "stdout",
     "output_type": "stream",
     "text": [
      "      name  salary\n",
      "0     Jack   19666\n",
      "1    Piper   74754\n",
      "2      Mia   62509\n",
      "3  Ulysses   54866\n"
     ]
    }
   ],
   "source": [
    "#Solution\n",
    "import pandas as pd\n",
    "employees=[\n",
    "    [\"name\", \"salary\"],\n",
    "    [\"Jack\", 19666],\n",
    "    [\"Piper\", 74754],\n",
    "    [\"Mia\", 62509],\n",
    "    [\"Ulysses\", 54866]\n",
    "]\n",
    "df=pd.DataFrame(employees[1:], columns=employees[0])\n",
    "print(df.head())"
   ]
  },
  {
   "cell_type": "code",
   "execution_count": 15,
   "metadata": {},
   "outputs": [
    {
     "name": "stdout",
     "output_type": "stream",
     "text": [
      "      name  salary\n",
      "0     Jack   39332\n",
      "1    Piper  149508\n",
      "2      Mia  125018\n",
      "3  Ulysses  109732\n"
     ]
    }
   ],
   "source": [
    "df[\"salary\"]=df[\"salary\"]*2\n",
    "print(df)"
   ]
  },
  {
   "cell_type": "markdown",
   "metadata": {},
   "source": [
    "***"
   ]
  },
  {
   "cell_type": "markdown",
   "metadata": {},
   "source": [
    "### Q9 Rename Columns\n",
    "### Difficulty: <span style=\"color: red;\">Easy</span>\n",
    "* DataFrame <span style=\"color: green;\">students</span>\n",
    "\n",
    "| Column Name | Type |\n",
    "|---|---|\n",
    "| id | int |\n",
    "| first | object |\n",
    "| last | object |\n",
    "| age | int |"
   ]
  },
  {
   "cell_type": "markdown",
   "metadata": {},
   "source": [
    "Write a solution to rename the columns as follows:\n",
    "* id to student_id\n",
    "* first to first_name\n",
    "* last to last_name\n",
    "* age to age_in_years"
   ]
  },
  {
   "cell_type": "markdown",
   "metadata": {},
   "source": [
    "**Example Input:**\n",
    "| id | first   | last     | age |\n",
    "| -- | ------- | -------- | --- |\n",
    "| 1  | Mason   | King     | 6   |\n",
    "| 2  | Ava     | Wright   | 7   |\n",
    "| 3  | Taylor  | Hall     | 16  |\n",
    "| 4  | Georgia | Thompson | 18  |\n",
    "| 5  | Thomas  | Moore    | 10  |\n",
    "\n",
    "**Output:**\n",
    "| student_id | first_name | last_name | age_in_years |\n",
    "| -- | ------- | -------- | --- |\n",
    "| 1  | Mason   | King     | 6   |\n",
    "| 2  | Ava     | Wright   | 7   |\n",
    "| 3  | Taylor  | Hall     | 16  |\n",
    "| 4  | Georgia | Thompson | 18  |\n",
    "| 5  | Thomas  | Moore    | 10  |\n",
    "\n",
    "**Explanation:**\n",
    "The column names are changed accordingly."
   ]
  },
  {
   "cell_type": "code",
   "execution_count": 4,
   "metadata": {},
   "outputs": [
    {
     "name": "stdout",
     "output_type": "stream",
     "text": [
      "   id    first      last  age\n",
      "0   1    Mason      King    6\n",
      "1   2      Ava    Wright    7\n",
      "2   3   Taylor      Hall   16\n",
      "3   4  Georgia  Thompson   18\n",
      "4   5   Thomas     Moore   10\n"
     ]
    }
   ],
   "source": [
    "#Solution\n",
    "import pandas as pd\n",
    "students=[\n",
    "    [\"id\", \"first\", \"last\", \"age\"],\n",
    "    [1, \"Mason\", \"King\", 6],\n",
    "    [2, \"Ava\", \"Wright\", 7],\n",
    "    [3, \"Taylor\", \"Hall\", 16],\n",
    "    [4, \"Georgia\", \"Thompson\", 18],\n",
    "    [5, \"Thomas\", \"Moore\", 10]\n",
    "]\n",
    "df=pd.DataFrame(students[1:], columns=students[0])\n",
    "print(df.head())"
   ]
  },
  {
   "cell_type": "code",
   "execution_count": 5,
   "metadata": {},
   "outputs": [
    {
     "name": "stdout",
     "output_type": "stream",
     "text": [
      "   student_id first_name last_name  age_in_years\n",
      "0           1      Mason      King             6\n",
      "1           2        Ava    Wright             7\n",
      "2           3     Taylor      Hall            16\n",
      "3           4    Georgia  Thompson            18\n",
      "4           5     Thomas     Moore            10\n"
     ]
    }
   ],
   "source": [
    "df.rename(columns={\n",
    "    \"id\":\"student_id\", \n",
    "    \"first\":\"first_name\", \n",
    "    \"last\":\"last_name\", \n",
    "    \"age\":\"age_in_years\"\n",
    "}, inplace=True)\n",
    "print(df)"
   ]
  },
  {
   "cell_type": "markdown",
   "metadata": {},
   "source": [
    "***"
   ]
  },
  {
   "cell_type": "markdown",
   "metadata": {},
   "source": [
    "### Q10 Change Data Type\n",
    "### Difficulty: <span style=\"color: red;\">Easy</span>\n",
    "* DataFrame <span style=\"color: green;\">students</span>\n",
    "\n",
    "| Column Name | Type |\n",
    "|---|---|\n",
    "| student_id | int |\n",
    "| name | object |\n",
    "| age | int |\n",
    "| grade | float |"
   ]
  },
  {
   "cell_type": "markdown",
   "metadata": {},
   "source": [
    "Write a solution to correct the errors:<br>\n",
    "The <span style=\"color: green;\">grade</span> column is stored as floats, convert it to integers.<br>"
   ]
  },
  {
   "cell_type": "markdown",
   "metadata": {},
   "source": [
    "**Example Input:**\n",
    "| student_id | name | age | grade |\n",
    "| ---------- | ---- | --- | ----- |\n",
    "| 1          | Ava  | 6   | 73.0  |\n",
    "| 2          | Kate | 15  | 87.0  |\n",
    "\n",
    "**Output:**\n",
    "| student_id | name | age | grade |\n",
    "| ---------- | ---- | --- | ----- |\n",
    "| 1          | Ava  | 6   | 73    |\n",
    "| 2          | Kate | 15  | 87    |\n",
    "\n",
    "**Explanation:**\n",
    "The data types of the column grade is converted to int."
   ]
  },
  {
   "cell_type": "code",
   "execution_count": 7,
   "metadata": {},
   "outputs": [
    {
     "name": "stdout",
     "output_type": "stream",
     "text": [
      "   student_id  name  age  grade\n",
      "0           1   Ava    6   73.0\n",
      "1           2  Kate   15   87.0\n"
     ]
    }
   ],
   "source": [
    "#Solution\n",
    "import pandas as pd\n",
    "students=[\n",
    "    [\"student_id\", \"name\", \"age\", \"grade\"],\n",
    "    [1, \"Ava\", 6, 73.0],  # Grade stored as a float\n",
    "    [2, \"Kate\", 15, 87.0]  # Grade stored as a float\n",
    "]\n",
    "df=pd.DataFrame(students[1:], columns=students[0])\n",
    "print(df.head())"
   ]
  },
  {
   "cell_type": "code",
   "execution_count": 11,
   "metadata": {},
   "outputs": [
    {
     "name": "stdout",
     "output_type": "stream",
     "text": [
      "<class 'numpy.int32'>\n",
      "\n",
      "\n",
      "   student_id  name  age  grade\n",
      "0           1   Ava    6     73\n",
      "1           2  Kate   15     87\n"
     ]
    }
   ],
   "source": [
    "df[\"grade\"]=df[\"grade\"].astype(int)\n",
    "print(type(df[\"grade\"][0])) #This will show us the data type of the values in column grade.\n",
    "print(\"\\n\")\n",
    "print(df)"
   ]
  },
  {
   "cell_type": "markdown",
   "metadata": {},
   "source": [
    "***"
   ]
  },
  {
   "cell_type": "markdown",
   "metadata": {},
   "source": [
    "### Q11 Fill Missing Data\n",
    "### Difficulty: <span style=\"color: red;\">Easy</span>\n",
    "* DataFrame <span style=\"color: green;\">products</span>\n",
    "\n",
    "| Column Name | Type |\n",
    "|---|---|\n",
    "| name | object |\n",
    "| quantity | int |\n",
    "| price | int |"
   ]
  },
  {
   "cell_type": "markdown",
   "metadata": {},
   "source": [
    "Write a solution to fill in the missing value as <span style=\"color: green;\">0</span> in the <span style=\"color: green;\">quantity</span> column."
   ]
  },
  {
   "cell_type": "markdown",
   "metadata": {},
   "source": [
    "**Example Input:**\n",
    "| name            | quantity | price |\n",
    "| --------------- | -------- | ----- |\n",
    "| Wristwatch      | null     | 135   |\n",
    "| WirelessEarbuds | null     | 821   |\n",
    "| GolfClubs       | 779      | 9319  |\n",
    "| Printer         | 849      | 3051  |\n",
    "\n",
    "**Output:**\n",
    "| name            | quantity | price |\n",
    "| --------------- | -------- | ----- |\n",
    "| Wristwatch      | 0        | 135   |\n",
    "| WirelessEarbuds | 0        | 821   |\n",
    "| GolfClubs       | 779      | 9319  |\n",
    "| Printer         | 849      | 3051  |\n",
    "\n",
    "**Explanation:**\n",
    "The quantity for Wristwatch and WirelessEarbuds are filled by 0."
   ]
  },
  {
   "cell_type": "code",
   "execution_count": 23,
   "metadata": {},
   "outputs": [
    {
     "name": "stdout",
     "output_type": "stream",
     "text": [
      "              name  quantity  price\n",
      "0       Wristwatch       NaN    135\n",
      "1  WirelessEarbuds       NaN    821\n",
      "2        GolfClubs     779.0   9319\n",
      "3          Printer     849.0   3051\n"
     ]
    }
   ],
   "source": [
    "#Solution\n",
    "import pandas as pd\n",
    "products=[\n",
    "    [\"name\", \"quantity\", \"price\"],\n",
    "    [\"Wristwatch\", None, 135],\n",
    "    [\"WirelessEarbuds\", None, 821],\n",
    "    [\"GolfClubs\", 779, 9319],\n",
    "    [\"Printer\", 849, 3051]\n",
    "]\n",
    "df=pd.DataFrame(products[1:], columns=products[0])\n",
    "print(df.head())"
   ]
  },
  {
   "cell_type": "code",
   "execution_count": 24,
   "metadata": {},
   "outputs": [
    {
     "name": "stdout",
     "output_type": "stream",
     "text": [
      "              name  quantity  price\n",
      "0       Wristwatch       0.0    135\n",
      "1  WirelessEarbuds       0.0    821\n",
      "2        GolfClubs     779.0   9319\n",
      "3          Printer     849.0   3051\n"
     ]
    }
   ],
   "source": [
    "df[\"quantity\"]=df[\"quantity\"].fillna(0)\n",
    "print(df)"
   ]
  },
  {
   "cell_type": "markdown",
   "metadata": {},
   "source": [
    "***"
   ]
  },
  {
   "cell_type": "markdown",
   "metadata": {},
   "source": [
    "### Q12 Reshape Data: Concatenate\n",
    "### Difficulty: <span style=\"color: red;\">Easy</span>\n",
    "* DataFrame <span style=\"color: green;\">df1</span>\n",
    "\n",
    "| Column Name | Type |\n",
    "|---|---|\n",
    "| student_id | int |\n",
    "| name | object |\n",
    "| age | int |\n",
    "\n",
    "* DataFrame <span style=\"color: green;\">df2</span>\n",
    "\n",
    "| Column Name | Type |\n",
    "|---|---|\n",
    "| student_id | int |\n",
    "| name | object |\n",
    "| age | int |"
   ]
  },
  {
   "cell_type": "markdown",
   "metadata": {},
   "source": [
    "Write a solution to concatenate these two DataFrames <strong>vertically</strong> into one DataFrame."
   ]
  },
  {
   "cell_type": "markdown",
   "metadata": {},
   "source": [
    "**Example Input:**\n",
    "* df1\n",
    "\n",
    "| student_id | name    | age |\n",
    "| ---------- | ------- | --- |\n",
    "| 1          | Mason   | 8   |\n",
    "| 2          | Ava     | 6   |\n",
    "| 3          | Taylor  | 15  |\n",
    "| 4          | Georgia | 17  |\n",
    "\n",
    "* df2\n",
    "\n",
    "| student_id | name | age |\n",
    "| ---------- | ---- | --- |\n",
    "| 5          | Leo  | 7   |\n",
    "| 6          | Alex | 7   |\n",
    "\n",
    "**Output:**\n",
    "| student_id | name    | age |\n",
    "| ---------- | ------- | --- |\n",
    "| 1          | Mason   | 8   |\n",
    "| 2          | Ava     | 6   |\n",
    "| 3          | Taylor  | 15  |\n",
    "| 4          | Georgia | 17  |\n",
    "| 5          | Leo     | 7   |\n",
    "| 6          | Alex    | 7   |\n",
    "\n",
    "**Explanation:**\n",
    "The two DataFramess are stacked vertically, and their rows are combined."
   ]
  },
  {
   "cell_type": "code",
   "execution_count": 31,
   "metadata": {},
   "outputs": [
    {
     "name": "stdout",
     "output_type": "stream",
     "text": [
      "df1:\n",
      "   student_id     name  age\n",
      "0           1    Mason    8\n",
      "1           2      Ava    6\n",
      "2           3   Taylor   15\n",
      "3           4  Georgia   17\n",
      "\n",
      "df2:\n",
      "   student_id  name  age\n",
      "0           5   Leo    7\n",
      "1           6  Alex    7\n"
     ]
    }
   ],
   "source": [
    "#Solution\n",
    "import pandas as pd\n",
    "table1=[\n",
    "    [\"student_id\", \"name\", \"age\"],\n",
    "    [1, \"Mason\", 8],\n",
    "    [2, \"Ava\", 6],\n",
    "    [3, \"Taylor\", 15],\n",
    "    [4, \"Georgia\", 17]\n",
    "]\n",
    "\n",
    "df1=pd.DataFrame(table1[1:], columns=table1[0])\n",
    "\n",
    "table2=[\n",
    "    [\"student_id\", \"name\", \"age\"],\n",
    "    [5, \"Leo\", 7],\n",
    "    [6, \"Alex\", 7]\n",
    "]\n",
    "\n",
    "df2=pd.DataFrame(table2[1:], columns=table2[0])\n",
    "\n",
    "print(f\"df1:\\n{df1}\\n\\ndf2:\\n{df2}\")"
   ]
  },
  {
   "cell_type": "code",
   "execution_count": 33,
   "metadata": {},
   "outputs": [
    {
     "name": "stdout",
     "output_type": "stream",
     "text": [
      "   student_id     name  age\n",
      "0           1    Mason    8\n",
      "1           2      Ava    6\n",
      "2           3   Taylor   15\n",
      "3           4  Georgia   17\n",
      "4           5      Leo    7\n",
      "5           6     Alex    7\n"
     ]
    }
   ],
   "source": [
    "final_df=pd.concat([df1, df2], ignore_index=True)\n",
    "print(final_df)"
   ]
  },
  {
   "cell_type": "markdown",
   "metadata": {},
   "source": [
    "***"
   ]
  },
  {
   "cell_type": "markdown",
   "metadata": {},
   "source": [
    "### Q13 Reshape Data: Pivot\n",
    "### Difficulty: <span style=\"color: red;\">Easy</span>\n",
    "* DataFrame <span style=\"color: green;\">weather</span>\n",
    "\n",
    "| Column Name | Type |\n",
    "|---|---|\n",
    "| city | object |\n",
    "| month | object |\n",
    "| temperature | int |"
   ]
  },
  {
   "cell_type": "markdown",
   "metadata": {},
   "source": [
    "Write a solution to <strong>pivot</strong> the data so that each row represents temperatures for a specific month, and each city is a separate column."
   ]
  },
  {
   "cell_type": "markdown",
   "metadata": {},
   "source": [
    "**Example Input:**\n",
    "| city         | month    | temperature |\n",
    "| ------------ | -------- | ----------- |\n",
    "| Jacksonville | January  | 13          |\n",
    "| Jacksonville | February | 23          |\n",
    "| Jacksonville | March    | 38          |\n",
    "| Jacksonville | April    | 5           |\n",
    "| Jacksonville | May      | 34          |\n",
    "| ElPaso       | January  | 20          |\n",
    "| ElPaso       | February | 6           |\n",
    "| ElPaso       | March    | 26          |\n",
    "| ElPaso       | April    | 2           |\n",
    "| ElPaso       | May      | 43          |\n",
    "\n",
    "**Output:**\n",
    "| month    | ElPaso | Jacksonville |\n",
    "|----------|--------|--------------|\n",
    "| April    | 2      | 5            |\n",
    "| February | 6      | 23           |\n",
    "| January  | 20     | 13           |\n",
    "| March    | 26     | 38           |\n",
    "| May      | 43     | 34           |\n",
    "\n",
    "**Explanation:**\n",
    "The table is pivoted, each column represents a city, and each row represents a specific month."
   ]
  },
  {
   "cell_type": "code",
   "execution_count": 17,
   "metadata": {},
   "outputs": [
    {
     "name": "stdout",
     "output_type": "stream",
     "text": [
      "           city     month  temperature\n",
      "0  Jacksonville   January           13\n",
      "1  Jacksonville  February           23\n",
      "2  Jacksonville     March           38\n",
      "3  Jacksonville     April            5\n",
      "4  Jacksonville       May           34\n"
     ]
    }
   ],
   "source": [
    "#Solution\n",
    "import pandas as pd\n",
    "weather=[\n",
    "    [\"city\", \"month\", \"temperature\"],\n",
    "    [\"Jacksonville\", \"January\", 13],\n",
    "    [\"Jacksonville\", \"February\", 23],\n",
    "    [\"Jacksonville\", \"March\", 38],\n",
    "    [\"Jacksonville\", \"April\", 5],\n",
    "    [\"Jacksonville\", \"May\", 34],\n",
    "    [\"ElPaso\", \"January\", 20],\n",
    "    [\"ElPaso\", \"February\", 6],\n",
    "    [\"ElPaso\", \"March\", 26],\n",
    "    [\"ElPaso\", \"April\", 2],\n",
    "    [\"ElPaso\", \"May\", 43]\n",
    "]\n",
    "df=pd.DataFrame(weather[1:], columns=weather[0])\n",
    "print(df.head())"
   ]
  },
  {
   "cell_type": "code",
   "execution_count": 37,
   "metadata": {},
   "outputs": [
    {
     "name": "stdout",
     "output_type": "stream",
     "text": [
      "city     month  ElPaso  Jacksonville\n",
      "0        April       2             5\n",
      "1     February       6            23\n",
      "2      January      20            13\n",
      "3        March      26            38\n",
      "4          May      43            34\n"
     ]
    }
   ],
   "source": [
    "df_pivot=df.pivot(index=\"month\", columns=\"city\", values=\"temperature\").reset_index()\n",
    "print(df_pivot)"
   ]
  },
  {
   "cell_type": "markdown",
   "metadata": {},
   "source": [
    "***"
   ]
  },
  {
   "cell_type": "markdown",
   "metadata": {},
   "source": [
    "### Q14 Reshape Data: Melt\n",
    "### Difficulty: <span style=\"color: red;\">Easy</span>\n",
    "* DataFrame <span style=\"color: green;\">report</span>\n",
    "\n",
    "| Column Name | Type |\n",
    "|---|---|\n",
    "| product | object |\n",
    "| quarter_1 | int |\n",
    "| quarter_2 | int |\n",
    "| quarter_3 | int |\n",
    "| quarter_4 | int |"
   ]
  },
  {
   "cell_type": "markdown",
   "metadata": {},
   "source": [
    "Write a solution to <strong>reshape</strong> the data so that each row represents sales data for a product in a specific quarter."
   ]
  },
  {
   "cell_type": "markdown",
   "metadata": {},
   "source": [
    "**Example Input:**\n",
    "| product     | quarter_1 | quarter_2 | quarter_3 | quarter_4 |\n",
    "| ----------- | --------- | --------- | --------- | --------- |\n",
    "| Umbrella    | 417       | 224       | 379       | 611       |\n",
    "| SleepingBag | 800       | 936       | 93        | 875       |\n",
    "\n",
    "**Output:**\n",
    "| product     | quarter   | sales |\n",
    "|-------------|-----------|-------|\n",
    "| Umbrella    | quarter_1 | 417   |\n",
    "| SleepingBag | quarter_1 | 800   |\n",
    "| Umbrella    | quarter_2 | 224   |\n",
    "| SleepingBag | quarter_2 | 936   |\n",
    "| Umbrella    | quarter_3 | 379   |\n",
    "| SleepingBag | quarter_3 | 93    |\n",
    "| Umbrella    | quarter_4 | 611   |\n",
    "| SleepingBag | quarter_4 | 875   |\n",
    "\n",
    "**Explanation:**\n",
    "The DataFrame is reshaped from wide to long format. Each row represents the sales of a product in a quarter."
   ]
  },
  {
   "cell_type": "code",
   "execution_count": 39,
   "metadata": {},
   "outputs": [
    {
     "name": "stdout",
     "output_type": "stream",
     "text": [
      "       product  quarter_1  quarter_2  quarter_3  quarter_4\n",
      "0     Umbrella        417        224        379        611\n",
      "1  SleepingBag        800        936         93        875\n"
     ]
    }
   ],
   "source": [
    "#Solution\n",
    "import pandas as pd\n",
    "report=[\n",
    "    [\"product\", \"quarter_1\", \"quarter_2\", \"quarter_3\", \"quarter_4\"],\n",
    "    [\"Umbrella\", 417, 224, 379, 611],\n",
    "    [\"SleepingBag\", 800, 936, 93, 875]\n",
    "]\n",
    "df=pd.DataFrame(report[1:], columns=report[0])\n",
    "print(df.head())"
   ]
  },
  {
   "cell_type": "code",
   "execution_count": 40,
   "metadata": {},
   "outputs": [
    {
     "name": "stdout",
     "output_type": "stream",
     "text": [
      "       product    quarter  sales\n",
      "0     Umbrella  quarter_1    417\n",
      "1  SleepingBag  quarter_1    800\n",
      "2     Umbrella  quarter_2    224\n",
      "3  SleepingBag  quarter_2    936\n",
      "4     Umbrella  quarter_3    379\n",
      "5  SleepingBag  quarter_3     93\n",
      "6     Umbrella  quarter_4    611\n",
      "7  SleepingBag  quarter_4    875\n"
     ]
    }
   ],
   "source": [
    "df_long=df.melt(id_vars=\"product\", var_name=\"quarter\", value_name=\"sales\")\n",
    "print(df_long)"
   ]
  },
  {
   "cell_type": "markdown",
   "metadata": {},
   "source": [
    "***"
   ]
  },
  {
   "cell_type": "markdown",
   "metadata": {},
   "source": [
    "### Q15 Method Chaining\n",
    "### Difficulty: <span style=\"color: red;\">Easy</span>\n",
    "* DataFrame <span style=\"color: green;\">animals</span>\n",
    "\n",
    "| Column Name | Type |\n",
    "|---|---|\n",
    "| name | object |\n",
    "| species | object |\n",
    "| age | int |\n",
    "| weight | int |"
   ]
  },
  {
   "cell_type": "markdown",
   "metadata": {},
   "source": [
    "Write a solution to list the names of animals that weigh <strong>strictly more than</strong> <span style=\"color: green;\">100</span> kilograms.<br>\n",
    "Return the animals sorted by weight in <strong>descending order</strong>."
   ]
  },
  {
   "cell_type": "markdown",
   "metadata": {},
   "source": [
    "**Example Input:**\n",
    "| name     | species | age | weight |\n",
    "| -------- | ------- | --- | ------ |\n",
    "| Tatiana  | Snake   | 98  | 464    |\n",
    "| Khaled   | Giraffe | 50  | 41     |\n",
    "| Alex     | Leopard | 6   | 328    |\n",
    "| Jonathan | Monkey  | 45  | 463    |\n",
    "| Stefan   | Bear    | 100 | 50     |\n",
    "| Tommy    | Panda   | 26  | 349    |\n",
    "\n",
    "**Output:**\n",
    "| name     |\n",
    "|----------|\n",
    "| Tatiana  |\n",
    "| Jonathan |\n",
    "| Tommy    |\n",
    "| Alex     |\n",
    "\n",
    "**Explanation:**<br>\n",
    "All animals weighing more than 100 should be included in the results table.<br>\n",
    "Tatiana's weight is 464, Jonathan's weight is 463, Tommy's weight is 349, and Alex's weight is 328.<br>\n",
    "The results should be sorted in descending order of weight."
   ]
  },
  {
   "cell_type": "code",
   "execution_count": 71,
   "metadata": {},
   "outputs": [
    {
     "name": "stdout",
     "output_type": "stream",
     "text": [
      "       name  species  age  weight\n",
      "0   Tatiana    Snake   98     464\n",
      "1    Khaled  Giraffe   50      41\n",
      "2      Alex  Leopard    6     328\n",
      "3  Jonathan   Monkey   45     463\n",
      "4    Stefan     Bear  100      50\n"
     ]
    }
   ],
   "source": [
    "#Solution\n",
    "import pandas as pd\n",
    "animals=[\n",
    "    [\"name\", \"species\", \"age\", \"weight\"],\n",
    "    [\"Tatiana\", \"Snake\", 98, 464],\n",
    "    [\"Khaled\", \"Giraffe\", 50, 41],\n",
    "    [\"Alex\", \"Leopard\", 6, 328],\n",
    "    [\"Jonathan\", \"Monkey\", 45, 463],\n",
    "    [\"Stefan\", \"Bear\", 100, 50],\n",
    "    [\"Tommy\", \"Panda\", 26, 349]\n",
    "]\n",
    "df=pd.DataFrame(animals[1:], columns=animals[0])\n",
    "print(df.head())"
   ]
  },
  {
   "cell_type": "code",
   "execution_count": 76,
   "metadata": {},
   "outputs": [
    {
     "name": "stdout",
     "output_type": "stream",
     "text": [
      "       name\n",
      "0   Tatiana\n",
      "3  Jonathan\n",
      "5     Tommy\n",
      "2      Alex\n"
     ]
    }
   ],
   "source": [
    "# We will first filter them based on the weight condition and then sort them in descending order using sort_values method.\n",
    "df_final=df[df[\"weight\"]>100].sort_values(by=\"weight\", ascending=False)[[\"name\"]]\n",
    "print(df_final)"
   ]
  },
  {
   "cell_type": "markdown",
   "metadata": {},
   "source": [
    "***"
   ]
  },
  {
   "cell_type": "markdown",
   "metadata": {},
   "source": [
    "<center><h1> Thank You </h1></center>"
   ]
  }
 ],
 "metadata": {
  "kernelspec": {
   "display_name": "Python 3",
   "language": "python",
   "name": "python3"
  },
  "language_info": {
   "codemirror_mode": {
    "name": "ipython",
    "version": 3
   },
   "file_extension": ".py",
   "mimetype": "text/x-python",
   "name": "python",
   "nbconvert_exporter": "python",
   "pygments_lexer": "ipython3",
   "version": "3.11.4"
  }
 },
 "nbformat": 4,
 "nbformat_minor": 2
}
