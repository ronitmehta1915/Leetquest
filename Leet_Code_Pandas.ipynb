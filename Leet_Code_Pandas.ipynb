{
 "cells": [
  {
   "cell_type": "markdown",
   "metadata": {},
   "source": [
    "## Introduction to <span style=\"color: green;\">Pandas</span>"
   ]
  },
  {
   "cell_type": "markdown",
   "metadata": {},
   "source": [
    "**Pandas** is a powerful Python library for data manipulation and analysis. It provides high-performance data structures and data analysis tools that make working with structured data easy and efficient.\n",
    "\n",
    "**Pandas Provides two types of classes for handling data:**\n",
    "\n",
    "* **Series:**\n",
    "    * A one-dimensional labeled array capable of holding any data type (integers, floats, strings, objects, etc.).\n",
    "    * Each element in a Series is associated with a label, which can be any immutable object (e.g., strings, integers, or tuples).\n",
    "    * Series objects are often created from Python lists or NumPy arrays.\n",
    "* **DataFrame:**\n",
    "    * A two-dimensional labeled data structure with rows and columns.\n",
    "    * Each column in a DataFrame is a Series object, and each row is a dictionary-like object.\n",
    "    * DataFrames can be created from various sources, such as Python dictionaries, lists of lists, or NumPy arrays.\n",
    "\n",
    "**Installation Process:**\n",
    "\n",
    "* **Using pip:** pip install pandas\n",
    "* **Using conda:** conda install pandas\n",
    "\n",
    "* For more help with installation: https://pandas.pydata.org/docs/getting_started/install.html"
   ]
  },
  {
   "cell_type": "markdown",
   "metadata": {},
   "source": [
    "<span style=\"color: orange;\">Lets begin with practice</span>\n",
    "* Leetcode Practice Link: https://leetcode.com/studyplan/introduction-to-pandas/"
   ]
  },
  {
   "cell_type": "markdown",
   "metadata": {},
   "source": [
    "***"
   ]
  },
  {
   "cell_type": "markdown",
   "metadata": {},
   "source": [
    "### Q1 Create a Database from List                                                                                \n",
    "### Difficulty: <span style=\"color: red;\">Easy</span>\n",
    "Write a solution to create a DataFrame from a 2D list called <span style=\"color: green;\">student_data</span>. This 2D list contains the IDs and ages of some students.\n",
    "The DataFrame should have two columns, <span style=\"color: green;\">student_id</span> and <span style=\"color: green;\">age</span>, and be in the same order as the original 2D list.\n",
    "The result format is in the following example."
   ]
  },
  {
   "cell_type": "markdown",
   "metadata": {},
   "source": [
    "**Example Input:**\n",
    "\n",
    "```python\n",
    "student_data = [\n",
    "  [1, 15],\n",
    "  [2, 11],\n",
    "  [3, 11],\n",
    "  [4, 20]\n",
    "]"
   ]
  },
  {
   "cell_type": "markdown",
   "metadata": {},
   "source": [
    "**Output:**\n",
    "\n",
    "| student_id | age |\n",
    "|---|---|\n",
    "| 1 | 15 |\n",
    "| 2 | 11 |\n",
    "| 3 | 11 |\n",
    "| 4 | 20 |\n",
    "\n",
    "\n",
    "Explanation: A DataFrame was created on top of student_data, with two columns named <span style=\"color: green;\">student_id</span> and <span style=\"color: green;\">age</span>."
   ]
  },
  {
   "cell_type": "code",
   "execution_count": 2,
   "metadata": {},
   "outputs": [
    {
     "name": "stdout",
     "output_type": "stream",
     "text": [
      "   student_id  age\n",
      "0           1   15\n",
      "1           2   11\n",
      "2           3   11\n",
      "3           4   20\n"
     ]
    }
   ],
   "source": [
    "#Solution\n",
    "import pandas as pd\n",
    "student_data=[[1, 15], [2, 11], [3, 11], [4, 20]]\n",
    "df=pd.DataFrame(student_data, columns=['student_id', 'age'])\n",
    "print(df.head())"
   ]
  },
  {
   "cell_type": "markdown",
   "metadata": {},
   "source": [
    "***"
   ]
  },
  {
   "cell_type": "markdown",
   "metadata": {},
   "source": [
    "### Q2 Get the Size of a DataFrame                                                                               \n",
    "### Difficulty: <span style=\"color: red;\">Easy</span>\n",
    "\n",
    "* DataFrame <span style=\"color: green;\">players</span>\n",
    "\n",
    "| Column Name | Type |\n",
    "|---|---|\n",
    "| player_id | int |\n",
    "| name | object |\n",
    "| age | int |\n",
    "| position | object |\n",
    "| ... | ... |\n",
    "\n",
    "\n"
   ]
  },
  {
   "cell_type": "markdown",
   "metadata": {},
   "source": [
    "Write a solution to calculate and display the number of rows and columns of <span style=\"color: green;\">players</span>.<br>\n",
    "Return the result as an array:<br>\n",
    "<span style=\"color: green;\">[number of rows, number of columns]</span>"
   ]
  },
  {
   "cell_type": "markdown",
   "metadata": {},
   "source": [
    "**Example Input:**\n",
    "\n",
    "| player_id | name     | age | position    | team               |\n",
    "|-----------|----------|-----|-------------|--------------------|\n",
    "| 846       | Mason    | 21  | Forward     | RealMadrid         |\n",
    "| 749       | Riley    | 30  | Winger      | Barcelona          |\n",
    "| 155       | Bob      | 28  | Striker     | ManchesterUnited   |\n",
    "| 583       | Isabella | 32  | Goalkeeper  | Liverpool          |\n",
    "| 388       | Zachary  | 24  | Midfielder  | BayernMunich       |\n",
    "| 883       | Ava      | 23  | Defender    | Chelsea            |\n",
    "| 355       | Violet   | 18  | Striker     | Juventus           |\n",
    "| 247       | Thomas   | 27  | Striker     | ParisSaint-Germain |\n",
    "| 761       | Jack     | 33  | Midfielder  | ManchesterCity     |\n",
    "| 642       | Charlie  | 36  | Center-back | Arsenal            |"
   ]
  },
  {
   "cell_type": "markdown",
   "metadata": {},
   "source": [
    "**Output:**\n",
    "[10, 5]\n",
    "\n",
    "**Explanation:**\n",
    "This DataFrame contains 10 rows and 5 columns."
   ]
  },
  {
   "cell_type": "code",
   "execution_count": 10,
   "metadata": {},
   "outputs": [
    {
     "name": "stdout",
     "output_type": "stream",
     "text": [
      "   player_id      name  age    position              team\n",
      "0        846     Mason   21     Forward        RealMadrid\n",
      "1        749     Riley   30      Winger         Barcelona\n",
      "2        155       Bob   28     Striker  ManchesterUnited\n",
      "3        583  Isabella   32  Goalkeeper         Liverpool\n",
      "4        388   Zachary   24  Midfielder      BayernMunich\n"
     ]
    }
   ],
   "source": [
    "#Solution\n",
    "import pandas as pd\n",
    "players=[\n",
    "    [\"player_id\", \"name\", \"age\", \"position\", \"team\"],\n",
    "    [846, \"Mason\", 21, \"Forward\", \"RealMadrid\"],\n",
    "    [749, \"Riley\", 30, \"Winger\", \"Barcelona\"],\n",
    "    [155, \"Bob\", 28, \"Striker\", \"ManchesterUnited\"],\n",
    "    [583, \"Isabella\", 32, \"Goalkeeper\", \"Liverpool\"],\n",
    "    [388, \"Zachary\", 24, \"Midfielder\", \"BayernMunich\"],\n",
    "    [883, \"Ava\", 23, \"Defender\", \"Chelsea\"],\n",
    "    [355, \"Violet\", 18, \"Striker\", \"Juventus\"],\n",
    "    [247, \"Thomas\", 27, \"Striker\", \"ParisSaint-Germain\"],\n",
    "    [761, \"Jack\", 33, \"Midfielder\", \"ManchesterCity\"],\n",
    "    [642, \"Charlie\", 36, \"Center-back\", \"Arsenal\"]\n",
    "]\n",
    "\n",
    "df=pd.DataFrame(players[1:], columns=players[0]) #Here we used slicing so that the first row is considered as the column headers and every row from index 1 is our actual data\n",
    "print(df.head())"
   ]
  },
  {
   "cell_type": "code",
   "execution_count": 12,
   "metadata": {},
   "outputs": [
    {
     "name": "stdout",
     "output_type": "stream",
     "text": [
      "[10, 5]\n"
     ]
    }
   ],
   "source": [
    "print(list(df.shape))  #We needed our output as a list and df.shape gives us the output as a tuple which is why we used the list method to convert this tuple to list"
   ]
  },
  {
   "cell_type": "markdown",
   "metadata": {},
   "source": [
    "***"
   ]
  },
  {
   "cell_type": "markdown",
   "metadata": {},
   "source": [
    "### Q3 Display the First Three Rows\n",
    "### Difficulty: <span style=\"color: red;\">Easy</span>\n",
    "Write a solution to display the first <span style=\"color: green;\">3</span> rows of this DataFrame."
   ]
  },
  {
   "cell_type": "markdown",
   "metadata": {},
   "source": [
    "**Example Input:**\n",
    "* DataFrame: <span style=\"color: green;\">employees</span>\n",
    "\n",
    "| employee_id | name      | department            | salary |\n",
    "| ----------- | --------- | --------------------- | ------ |\n",
    "| 3           | Bob       | Operations            | 48675  |\n",
    "| 90          | Alice     | Sales                 | 11096  |\n",
    "| 9           | Tatiana   | Engineering           | 33805  |\n",
    "| 60          | Annabelle | InformationTechnology | 37678  |\n",
    "| 49          | Jonathan  | HumanResources        | 23793  |\n",
    "| 43          | Khaled    | Administration        | 40454  |"
   ]
  },
  {
   "cell_type": "markdown",
   "metadata": {},
   "source": [
    "**Output:**\n",
    "| employee_id | name      | department            | salary |\n",
    "| ----------- | --------- | --------------------- | ------ |\n",
    "| 3           | Bob       | Operations            | 48675  |\n",
    "| 90          | Alice     | Sales                 | 11096  |\n",
    "| 9           | Tatiana   | Engineering           | 33805  |\n",
    "\n",
    "**Explanation:**\n",
    "Only the first 3 rows are displayed."
   ]
  },
  {
   "cell_type": "code",
   "execution_count": 7,
   "metadata": {},
   "outputs": [
    {
     "name": "stdout",
     "output_type": "stream",
     "text": [
      "   employee_id       name             department  salary\n",
      "0            3        Bob             Operations   48675\n",
      "1           90      Alice                  Sales   11096\n",
      "2            9    Tatiana            Engineering   33805\n",
      "3           60  Annabelle  InformationTechnology   37678\n",
      "4           49   Jonathan         HumanResources   23793\n"
     ]
    }
   ],
   "source": [
    "#Solution\n",
    "import pandas as pd\n",
    "employees=[\n",
    "    [\"employee_id\", \"name\", \"department\", \"salary\"],\n",
    "    [3, \"Bob\", \"Operations\", 48675],\n",
    "    [90, \"Alice\", \"Sales\", 11096],\n",
    "    [9, \"Tatiana\", \"Engineering\", 33805],\n",
    "    [60, \"Annabelle\", \"InformationTechnology\", 37678],\n",
    "    [49, \"Jonathan\", \"HumanResources\", 23793],\n",
    "    [43, \"Khaled\", \"Administration\", 40454]\n",
    "]\n",
    "df=pd.DataFrame(employees[1:], columns=employees[0])\n",
    "print(df.head())"
   ]
  },
  {
   "cell_type": "code",
   "execution_count": 5,
   "metadata": {},
   "outputs": [
    {
     "data": {
      "text/html": [
       "<div>\n",
       "<style scoped>\n",
       "    .dataframe tbody tr th:only-of-type {\n",
       "        vertical-align: middle;\n",
       "    }\n",
       "\n",
       "    .dataframe tbody tr th {\n",
       "        vertical-align: top;\n",
       "    }\n",
       "\n",
       "    .dataframe thead th {\n",
       "        text-align: right;\n",
       "    }\n",
       "</style>\n",
       "<table border=\"1\" class=\"dataframe\">\n",
       "  <thead>\n",
       "    <tr style=\"text-align: right;\">\n",
       "      <th></th>\n",
       "      <th>employee_id</th>\n",
       "      <th>name</th>\n",
       "      <th>department</th>\n",
       "      <th>salary</th>\n",
       "    </tr>\n",
       "  </thead>\n",
       "  <tbody>\n",
       "    <tr>\n",
       "      <th>0</th>\n",
       "      <td>3</td>\n",
       "      <td>Bob</td>\n",
       "      <td>Operations</td>\n",
       "      <td>48675</td>\n",
       "    </tr>\n",
       "    <tr>\n",
       "      <th>1</th>\n",
       "      <td>90</td>\n",
       "      <td>Alice</td>\n",
       "      <td>Sales</td>\n",
       "      <td>11096</td>\n",
       "    </tr>\n",
       "    <tr>\n",
       "      <th>2</th>\n",
       "      <td>9</td>\n",
       "      <td>Tatiana</td>\n",
       "      <td>Engineering</td>\n",
       "      <td>33805</td>\n",
       "    </tr>\n",
       "  </tbody>\n",
       "</table>\n",
       "</div>"
      ],
      "text/plain": [
       "   employee_id     name   department  salary\n",
       "0            3      Bob   Operations   48675\n",
       "1           90    Alice        Sales   11096\n",
       "2            9  Tatiana  Engineering   33805"
      ]
     },
     "execution_count": 5,
     "metadata": {},
     "output_type": "execute_result"
    }
   ],
   "source": [
    "#To print the first particular number of rows, simply define the head argument with the nth element (in our case 3)\n",
    "df.head(3)"
   ]
  },
  {
   "cell_type": "markdown",
   "metadata": {},
   "source": [
    "***"
   ]
  },
  {
   "cell_type": "markdown",
   "metadata": {},
   "source": [
    "### Q4 Select Data\n",
    "### Difficulty: <span style=\"color: red;\">Easy</span>\n",
    "Write a solution to select the name and age of the student with <span style=\"color: green;\">student_id = 101</span>."
   ]
  },
  {
   "cell_type": "markdown",
   "metadata": {},
   "source": [
    "* DataFrame <span style=\"color: green;\">students</span>\n",
    "\n",
    "| Column Name | Type |\n",
    "|---|---|\n",
    "| student_id | int |\n",
    "| name | object |\n",
    "| age | int |"
   ]
  },
  {
   "cell_type": "markdown",
   "metadata": {},
   "source": [
    "**Example Input:**\n",
    "\n",
    "| student_id | name    | age |\n",
    "| ---------- | ------- | --- |\n",
    "| 101        | Ulysses | 13  |\n",
    "| 53         | William | 10  |\n",
    "| 128        | Henry   | 6   |\n",
    "| 3          | Henry   | 11  |"
   ]
  },
  {
   "cell_type": "markdown",
   "metadata": {},
   "source": [
    "**Output:**\n",
    "\n",
    "| name    | age |\n",
    "| ------- | --- |\n",
    "| Ulysses | 13  |\n",
    "\n",
    "**Explaination:**\n",
    "Student Ulysses has student_id = 101, we select the name and age."
   ]
  },
  {
   "cell_type": "code",
   "execution_count": 9,
   "metadata": {},
   "outputs": [
    {
     "name": "stdout",
     "output_type": "stream",
     "text": [
      "   student_id     name  age\n",
      "0         101  Ulysses   13\n",
      "1          53  William   10\n",
      "2         128    Henry    6\n",
      "3           3    Henry   11\n"
     ]
    }
   ],
   "source": [
    "#Solution\n",
    "import pandas as pd\n",
    "students=[\n",
    "    [\"student_id\", \"name\", \"age\"],\n",
    "    [101, \"Ulysses\", 13],\n",
    "    [53, \"William\", 10],\n",
    "    [128, \"Henry\", 6],\n",
    "    [3, \"Henry\", 11]\n",
    "]\n",
    "df=pd.DataFrame(students[1:], columns=students[0])\n",
    "print(df.head())"
   ]
  },
  {
   "cell_type": "code",
   "execution_count": 43,
   "metadata": {},
   "outputs": [
    {
     "name": "stdout",
     "output_type": "stream",
     "text": [
      "      name  age\n",
      "0  Ulysses   13\n"
     ]
    }
   ],
   "source": [
    "# We use .iloc which helps up in slicing the DataFrame based on rows and columns, the first parameter for iloc is for rows while the second is for column.\n",
    "# \":\" A semicolon means selecting every row in the first parameter and for column we needed columns name and age which are at index 1 and 2 respectively so\n",
    "# the second parameter we start slicing from index 1 till the end\n",
    "print(df[df[\"student_id\"]==101].iloc[:,1:])"
   ]
  },
  {
   "cell_type": "markdown",
   "metadata": {},
   "source": [
    "***"
   ]
  },
  {
   "cell_type": "markdown",
   "metadata": {},
   "source": [
    "### Q5 Create a New Column\n",
    "### Difficulty: <span style=\"color: red;\">Easy</span>\n",
    "* DataFrame <span style=\"color: green;\">employees</span>\n",
    "\n",
    "| Column Name | Type |\n",
    "|---|---|\n",
    "| name | object |\n",
    "| salary | int |"
   ]
  },
  {
   "cell_type": "markdown",
   "metadata": {},
   "source": [
    "A company plans to provide its employees with a bonus.<br>\n",
    "Write a solution to create a new column name <span style=\"color: green;\">bonus</span> that contains the <strong>doubled values</strong> of the <span style=\"color: green;\">salary</span> column."
   ]
  },
  {
   "cell_type": "markdown",
   "metadata": {},
   "source": [
    "**Example Input:**\n",
    "| name    | salary |\n",
    "| ------- | ------ |\n",
    "| Piper   | 4548   |\n",
    "| Grace   | 28150  |\n",
    "| Georgia | 1103   |\n",
    "| Willow  | 6593   |\n",
    "| Finn    | 74576  |\n",
    "| Thomas  | 24433  |"
   ]
  },
  {
   "cell_type": "markdown",
   "metadata": {},
   "source": [
    "**Output:**\n",
    "| name    | salary | bonus |\n",
    "| ------- | ------ | ------ |\n",
    "| Piper   | 4548   | 9096 |\n",
    "| Grace   | 28150  | 56300 |\n",
    "| Georgia | 1103   | 2206 |\n",
    "| Willow  | 6593   | 13186 |\n",
    "| Finn    | 74576  | 149152 |\n",
    "| Thomas  | 24433  | 48866 |\n",
    "\n",
    "**Explanation:**\n",
    "A new column bonus is created by doubling the value in the column salary."
   ]
  },
  {
   "cell_type": "code",
   "execution_count": 44,
   "metadata": {},
   "outputs": [
    {
     "name": "stdout",
     "output_type": "stream",
     "text": [
      "      name  salary\n",
      "0    Piper    4548\n",
      "1    Grace   28150\n",
      "2  Georgia    1103\n",
      "3   Willow    6593\n",
      "4     Finn   74576\n"
     ]
    }
   ],
   "source": [
    "#Solution\n",
    "import pandas as pd\n",
    "employees=[\n",
    "    [\"name\", \"salary\"],\n",
    "    [\"Piper\", 4548],\n",
    "    [\"Grace\", 28150],\n",
    "    [\"Georgia\", 1103],\n",
    "    [\"Willow\", 6593],\n",
    "    [\"Finn\", 74576],\n",
    "    [\"Thomas\", 24433]\n",
    "]\n",
    "df=pd.DataFrame(employees[1:], columns=employees[0])\n",
    "print(df.head())"
   ]
  },
  {
   "cell_type": "code",
   "execution_count": 45,
   "metadata": {},
   "outputs": [
    {
     "name": "stdout",
     "output_type": "stream",
     "text": [
      "      name  salary   bonus\n",
      "0    Piper    4548    9096\n",
      "1    Grace   28150   56300\n",
      "2  Georgia    1103    2206\n",
      "3   Willow    6593   13186\n",
      "4     Finn   74576  149152\n"
     ]
    }
   ],
   "source": [
    "df[\"bonus\"]=df[\"salary\"]*2 #We simply initiate a new value and its value to double of salary column.\n",
    "print(df.head())"
   ]
  },
  {
   "cell_type": "markdown",
   "metadata": {},
   "source": [
    "***"
   ]
  },
  {
   "cell_type": "markdown",
   "metadata": {},
   "source": [
    "### Q6 Drop Duplicate Columns\n",
    "### Difficulty: <span style=\"color: red;\">Easy</span>\n",
    "* DataFrame <span style=\"color: green;\">customers</span>\n",
    "\n",
    "| Column Name | Type |\n",
    "|---|---|\n",
    "| customer_id | int |\n",
    "| name | object |\n",
    "| email | object |"
   ]
  },
  {
   "cell_type": "markdown",
   "metadata": {},
   "source": [
    "There are some duplicate rows in the DataFrame based on the <span style=\"color: green;\">email</span> column.<br>\n",
    "Write a solution to remove these duplicate rows and keep only the <strong>first</strong> occurrence.<br>\n",
    "The result format is in the following example."
   ]
  },
  {
   "cell_type": "markdown",
   "metadata": {},
   "source": [
    "**Example Input:**\n",
    "| customer_id | name    | email               |\n",
    "| ----------- | ------- | ------------------- |\n",
    "| 1           | Ella    | emily@example.com   |\n",
    "| 2           | David   | michael@example.com |\n",
    "| 3           | Zachary | sarah@example.com   |\n",
    "| 4           | Alice   | john@example.com    |\n",
    "| 5           | Finn    | john@example.com    |\n",
    "| 6           | Violet  | alice@example.com   |\n",
    "\n",
    "**Output:**\n",
    "| customer_id | name    | email               |\n",
    "| ----------- | ------- | ------------------- |\n",
    "| 1           | Ella    | emily@example.com   |\n",
    "| 2           | David   | michael@example.com |\n",
    "| 3           | Zachary | sarah@example.com   |\n",
    "| 4           | Alice   | john@example.com    |\n",
    "| 6           | Violet  | alice@example.com   |\n",
    "\n",
    "**Explanation:**\n",
    "Alic (customer_id = 4) and Finn (customer_id = 5) both use john@example.com, so only the first occurrence of this email is retained."
   ]
  },
  {
   "cell_type": "code",
   "execution_count": 59,
   "metadata": {},
   "outputs": [
    {
     "name": "stdout",
     "output_type": "stream",
     "text": [
      "   customer_id     name                email\n",
      "0            1     Ella    emily@example.com\n",
      "1            2    David  michael@example.com\n",
      "2            3  Zachary    sarah@example.com\n",
      "3            4    Alice     john@example.com\n",
      "4            5     Finn     john@example.com\n"
     ]
    }
   ],
   "source": [
    "#Solution\n",
    "import pandas as pd\n",
    "customers=[\n",
    "    [\"customer_id\", \"name\", \"email\"],\n",
    "    [1, \"Ella\", \"emily@example.com\"],\n",
    "    [2, \"David\", \"michael@example.com\"],\n",
    "    [3, \"Zachary\", \"sarah@example.com\"],\n",
    "    [4, \"Alice\", \"john@example.com\"],\n",
    "    [5, \"Finn\", \"john@example.com\"],\n",
    "    [6, \"Violet\", \"alice@example.com\"]\n",
    "]\n",
    "df=pd.DataFrame(customers[1:], columns=customers[0])\n",
    "print(df.head())"
   ]
  },
  {
   "cell_type": "code",
   "execution_count": 60,
   "metadata": {},
   "outputs": [
    {
     "name": "stdout",
     "output_type": "stream",
     "text": [
      "   customer_id     name                email\n",
      "0            1     Ella    emily@example.com\n",
      "1            2    David  michael@example.com\n",
      "2            3  Zachary    sarah@example.com\n",
      "3            4    Alice     john@example.com\n",
      "5            6   Violet    alice@example.com\n"
     ]
    }
   ],
   "source": [
    "new_df=df.drop_duplicates(\"email\", keep='first')\n",
    "print(new_df)"
   ]
  },
  {
   "cell_type": "markdown",
   "metadata": {},
   "source": [
    "***"
   ]
  },
  {
   "cell_type": "code",
   "execution_count": null,
   "metadata": {},
   "outputs": [],
   "source": []
  }
 ],
 "metadata": {
  "kernelspec": {
   "display_name": "Python 3",
   "language": "python",
   "name": "python3"
  },
  "language_info": {
   "codemirror_mode": {
    "name": "ipython",
    "version": 3
   },
   "file_extension": ".py",
   "mimetype": "text/x-python",
   "name": "python",
   "nbconvert_exporter": "python",
   "pygments_lexer": "ipython3",
   "version": "3.11.4"
  }
 },
 "nbformat": 4,
 "nbformat_minor": 2
}
